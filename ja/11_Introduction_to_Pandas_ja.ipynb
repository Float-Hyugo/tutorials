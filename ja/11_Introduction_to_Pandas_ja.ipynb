{
    "cells": [
        {
            "cell_type": "markdown",
            "metadata": {
                "colab_type": "text",
                "id": "jEuKb9fhjovk"
            },
            "source": [
                "# Pandas 入門\n",
                "\n",
                "Pandas はデータ操作によく用いられるパッケージであり、CSV などの一般的なデータ形式で保存されたデータの読み込みや、条件を指定しての一部データの抽出など、機械学習手法で取り扱うデータを事前に整理したり、まとめたりするのに便利です。\n",
                "\n",
                "今回は Pandas の以下の代表的な機能の使い方を説明します。\n",
                "\n",
                "- CSV ファイルの読み書き\n",
                "- 統計量の算出\n",
                "- 並び替え\n",
                "- データの抽出\n",
                "- 条件を指定した抽出\n",
                "- 条件を指定した置換\n",
                "- 欠損値の除去 / 補間\n",
                "- NumPy と pandas を相互に変換\n",
                "- グラフの描画\n",
                "\n",
                "まず Pandas パッケージを読み込みましょう。\n",
                "`pandas` は `pd` という別名を与えて用いるのが一般的です。"
            ]
        },
        {
            "cell_type": "code",
            "execution_count": 1,
            "metadata": {
                "colab": {},
                "colab_type": "code",
                "id": "oOg-SRWp2OQz"
            },
            "outputs": [],
            "source": [
                "import pandas as pd"
            ]
        },
        {
            "cell_type": "markdown",
            "metadata": {
                "colab_type": "text",
                "id": "26MTeJHGqx6q"
            },
            "source": [
                "## CSV ファイルの読み書き\n",
                "\n",
                "データセットは Google Colaboratory で用意されているサンプルデータを使用します。\n",
                "Google Colaboratory 以外で実行する場合は、[こちら](https://download.mlcc.google.com/mledu-datasets/california_housing_train.csv)をダウンロードして、使用してください。\n",
                "\n"
            ]
        },
        {
            "cell_type": "markdown",
            "metadata": {
                "colab_type": "text",
                "id": "0GUo7yjIih3u"
            },
            "source": [
                "Pandas では CSV ファイルを読み込むための `pd.read_csv()` という関数が用意されています。\n",
                "こちらを使って CSV ファイルを読み込みます。"
            ]
        },
        {
            "cell_type": "code",
            "execution_count": 2,
            "metadata": {
                "colab": {},
                "colab_type": "code",
                "id": "QvqC02GJ3V0a"
            },
            "outputs": [],
            "source": [
                "# データセットの読み込み\n",
                "df = pd.read_csv('sample_data/california_housing_train.csv')"
            ]
        },
        {
            "cell_type": "markdown",
            "metadata": {
                "colab_type": "text",
                "id": "k8c9lneAih3y"
            },
            "source": [
                "`df` という変数名は、**データフレーム (data frame)** という Pandas で中心的に用いられる**データ構造 (data structure)** を表すクラスの名前の頭文字に由来しています。\n",
                "`pd.read_csv()` 関数は、CSV ファイルの内容を `DataFrame` オブジェクトに読み込みます。"
            ]
        },
        {
            "cell_type": "code",
            "execution_count": 3,
            "metadata": {
                "colab": {
                    "base_uri": "https://localhost:8080/",
                    "height": 35
                },
                "colab_type": "code",
                "id": "qj-5MVjXsDIY",
                "outputId": "b0263230-cd3a-45c1-e8d2-d207db627156"
            },
            "outputs": [
                {
                    "data": {
                        "text/plain": [
                            "pandas.core.frame.DataFrame"
                        ]
                    },
                    "execution_count": 3,
                    "metadata": {
                        "tags": []
                    },
                    "output_type": "execute_result"
                }
            ],
            "source": [
                "# 型の確認\n",
                "type(df)"
            ]
        },
        {
            "cell_type": "markdown",
            "metadata": {
                "colab_type": "text",
                "id": "KXJ2TyXAih36"
            },
            "source": [
                "## DataFrame の表示"
            ]
        },
        {
            "cell_type": "markdown",
            "metadata": {
                "colab_type": "text",
                "id": "Q3BBVv61Zwst"
            },
            "source": [
                "`df` に読み込まれたデータの中身の確認してみましょう。\n",
                "Jupyter Notebook 上では、大きな DataFrame を表示しようとすると自動的に一部が省略されることがあります。"
            ]
        },
        {
            "cell_type": "code",
            "execution_count": 4,
            "metadata": {
                "colab": {
                    "base_uri": "https://localhost:8080/",
                    "height": 1930
                },
                "colab_type": "code",
                "id": "8C5F7DqQZm1y",
                "outputId": "14287b2d-a973-46d1-c9ca-e36450ae6d00"
            },
            "outputs": [
                {
                    "data": {
                        "text/html": [
                            "<div>\n",
                            "<style scoped>\n",
                            "    .dataframe tbody tr th:only-of-type {\n",
                            "        vertical-align: middle;\n",
                            "    }\n",
                            "\n",
                            "    .dataframe tbody tr th {\n",
                            "        vertical-align: top;\n",
                            "    }\n",
                            "\n",
                            "    .dataframe thead th {\n",
                            "        text-align: right;\n",
                            "    }\n",
                            "</style>\n",
                            "<table border=\"1\" class=\"dataframe\">\n",
                            "  <thead>\n",
                            "    <tr style=\"text-align: right;\">\n",
                            "      <th></th>\n",
                            "      <th>longitude</th>\n",
                            "      <th>latitude</th>\n",
                            "      <th>housing_median_age</th>\n",
                            "      <th>total_rooms</th>\n",
                            "      <th>total_bedrooms</th>\n",
                            "      <th>population</th>\n",
                            "      <th>households</th>\n",
                            "      <th>median_income</th>\n",
                            "      <th>median_house_value</th>\n",
                            "    </tr>\n",
                            "  </thead>\n",
                            "  <tbody>\n",
                            "    <tr>\n",
                            "      <th>0</th>\n",
                            "      <td>-114.31</td>\n",
                            "      <td>34.19</td>\n",
                            "      <td>15.0</td>\n",
                            "      <td>5612.0</td>\n",
                            "      <td>1283.0</td>\n",
                            "      <td>1015.0</td>\n",
                            "      <td>472.0</td>\n",
                            "      <td>1.4936</td>\n",
                            "      <td>66900.0</td>\n",
                            "    </tr>\n",
                            "    <tr>\n",
                            "      <th>1</th>\n",
                            "      <td>-114.47</td>\n",
                            "      <td>34.40</td>\n",
                            "      <td>19.0</td>\n",
                            "      <td>7650.0</td>\n",
                            "      <td>1901.0</td>\n",
                            "      <td>1129.0</td>\n",
                            "      <td>463.0</td>\n",
                            "      <td>1.8200</td>\n",
                            "      <td>80100.0</td>\n",
                            "    </tr>\n",
                            "    <tr>\n",
                            "      <th>2</th>\n",
                            "      <td>-114.56</td>\n",
                            "      <td>33.69</td>\n",
                            "      <td>17.0</td>\n",
                            "      <td>720.0</td>\n",
                            "      <td>174.0</td>\n",
                            "      <td>333.0</td>\n",
                            "      <td>117.0</td>\n",
                            "      <td>1.6509</td>\n",
                            "      <td>85700.0</td>\n",
                            "    </tr>\n",
                            "    <tr>\n",
                            "      <th>3</th>\n",
                            "      <td>-114.57</td>\n",
                            "      <td>33.64</td>\n",
                            "      <td>14.0</td>\n",
                            "      <td>1501.0</td>\n",
                            "      <td>337.0</td>\n",
                            "      <td>515.0</td>\n",
                            "      <td>226.0</td>\n",
                            "      <td>3.1917</td>\n",
                            "      <td>73400.0</td>\n",
                            "    </tr>\n",
                            "    <tr>\n",
                            "      <th>4</th>\n",
                            "      <td>-114.57</td>\n",
                            "      <td>33.57</td>\n",
                            "      <td>20.0</td>\n",
                            "      <td>1454.0</td>\n",
                            "      <td>326.0</td>\n",
                            "      <td>624.0</td>\n",
                            "      <td>262.0</td>\n",
                            "      <td>1.9250</td>\n",
                            "      <td>65500.0</td>\n",
                            "    </tr>\n",
                            "    <tr>\n",
                            "      <th>5</th>\n",
                            "      <td>-114.58</td>\n",
                            "      <td>33.63</td>\n",
                            "      <td>29.0</td>\n",
                            "      <td>1387.0</td>\n",
                            "      <td>236.0</td>\n",
                            "      <td>671.0</td>\n",
                            "      <td>239.0</td>\n",
                            "      <td>3.3438</td>\n",
                            "      <td>74000.0</td>\n",
                            "    </tr>\n",
                            "    <tr>\n",
                            "      <th>6</th>\n",
                            "      <td>-114.58</td>\n",
                            "      <td>33.61</td>\n",
                            "      <td>25.0</td>\n",
                            "      <td>2907.0</td>\n",
                            "      <td>680.0</td>\n",
                            "      <td>1841.0</td>\n",
                            "      <td>633.0</td>\n",
                            "      <td>2.6768</td>\n",
                            "      <td>82400.0</td>\n",
                            "    </tr>\n",
                            "    <tr>\n",
                            "      <th>7</th>\n",
                            "      <td>-114.59</td>\n",
                            "      <td>34.83</td>\n",
                            "      <td>41.0</td>\n",
                            "      <td>812.0</td>\n",
                            "      <td>168.0</td>\n",
                            "      <td>375.0</td>\n",
                            "      <td>158.0</td>\n",
                            "      <td>1.7083</td>\n",
                            "      <td>48500.0</td>\n",
                            "    </tr>\n",
                            "    <tr>\n",
                            "      <th>8</th>\n",
                            "      <td>-114.59</td>\n",
                            "      <td>33.61</td>\n",
                            "      <td>34.0</td>\n",
                            "      <td>4789.0</td>\n",
                            "      <td>1175.0</td>\n",
                            "      <td>3134.0</td>\n",
                            "      <td>1056.0</td>\n",
                            "      <td>2.1782</td>\n",
                            "      <td>58400.0</td>\n",
                            "    </tr>\n",
                            "    <tr>\n",
                            "      <th>9</th>\n",
                            "      <td>-114.60</td>\n",
                            "      <td>34.83</td>\n",
                            "      <td>46.0</td>\n",
                            "      <td>1497.0</td>\n",
                            "      <td>309.0</td>\n",
                            "      <td>787.0</td>\n",
                            "      <td>271.0</td>\n",
                            "      <td>2.1908</td>\n",
                            "      <td>48100.0</td>\n",
                            "    </tr>\n",
                            "    <tr>\n",
                            "      <th>10</th>\n",
                            "      <td>-114.60</td>\n",
                            "      <td>33.62</td>\n",
                            "      <td>16.0</td>\n",
                            "      <td>3741.0</td>\n",
                            "      <td>801.0</td>\n",
                            "      <td>2434.0</td>\n",
                            "      <td>824.0</td>\n",
                            "      <td>2.6797</td>\n",
                            "      <td>86500.0</td>\n",
                            "    </tr>\n",
                            "    <tr>\n",
                            "      <th>11</th>\n",
                            "      <td>-114.60</td>\n",
                            "      <td>33.60</td>\n",
                            "      <td>21.0</td>\n",
                            "      <td>1988.0</td>\n",
                            "      <td>483.0</td>\n",
                            "      <td>1182.0</td>\n",
                            "      <td>437.0</td>\n",
                            "      <td>1.6250</td>\n",
                            "      <td>62000.0</td>\n",
                            "    </tr>\n",
                            "    <tr>\n",
                            "      <th>12</th>\n",
                            "      <td>-114.61</td>\n",
                            "      <td>34.84</td>\n",
                            "      <td>48.0</td>\n",
                            "      <td>1291.0</td>\n",
                            "      <td>248.0</td>\n",
                            "      <td>580.0</td>\n",
                            "      <td>211.0</td>\n",
                            "      <td>2.1571</td>\n",
                            "      <td>48600.0</td>\n",
                            "    </tr>\n",
                            "    <tr>\n",
                            "      <th>13</th>\n",
                            "      <td>-114.61</td>\n",
                            "      <td>34.83</td>\n",
                            "      <td>31.0</td>\n",
                            "      <td>2478.0</td>\n",
                            "      <td>464.0</td>\n",
                            "      <td>1346.0</td>\n",
                            "      <td>479.0</td>\n",
                            "      <td>3.2120</td>\n",
                            "      <td>70400.0</td>\n",
                            "    </tr>\n",
                            "    <tr>\n",
                            "      <th>14</th>\n",
                            "      <td>-114.63</td>\n",
                            "      <td>32.76</td>\n",
                            "      <td>15.0</td>\n",
                            "      <td>1448.0</td>\n",
                            "      <td>378.0</td>\n",
                            "      <td>949.0</td>\n",
                            "      <td>300.0</td>\n",
                            "      <td>0.8585</td>\n",
                            "      <td>45000.0</td>\n",
                            "    </tr>\n",
                            "    <tr>\n",
                            "      <th>15</th>\n",
                            "      <td>-114.65</td>\n",
                            "      <td>34.89</td>\n",
                            "      <td>17.0</td>\n",
                            "      <td>2556.0</td>\n",
                            "      <td>587.0</td>\n",
                            "      <td>1005.0</td>\n",
                            "      <td>401.0</td>\n",
                            "      <td>1.6991</td>\n",
                            "      <td>69100.0</td>\n",
                            "    </tr>\n",
                            "    <tr>\n",
                            "      <th>16</th>\n",
                            "      <td>-114.65</td>\n",
                            "      <td>33.60</td>\n",
                            "      <td>28.0</td>\n",
                            "      <td>1678.0</td>\n",
                            "      <td>322.0</td>\n",
                            "      <td>666.0</td>\n",
                            "      <td>256.0</td>\n",
                            "      <td>2.9653</td>\n",
                            "      <td>94900.0</td>\n",
                            "    </tr>\n",
                            "    <tr>\n",
                            "      <th>17</th>\n",
                            "      <td>-114.65</td>\n",
                            "      <td>32.79</td>\n",
                            "      <td>21.0</td>\n",
                            "      <td>44.0</td>\n",
                            "      <td>33.0</td>\n",
                            "      <td>64.0</td>\n",
                            "      <td>27.0</td>\n",
                            "      <td>0.8571</td>\n",
                            "      <td>25000.0</td>\n",
                            "    </tr>\n",
                            "    <tr>\n",
                            "      <th>18</th>\n",
                            "      <td>-114.66</td>\n",
                            "      <td>32.74</td>\n",
                            "      <td>17.0</td>\n",
                            "      <td>1388.0</td>\n",
                            "      <td>386.0</td>\n",
                            "      <td>775.0</td>\n",
                            "      <td>320.0</td>\n",
                            "      <td>1.2049</td>\n",
                            "      <td>44000.0</td>\n",
                            "    </tr>\n",
                            "    <tr>\n",
                            "      <th>19</th>\n",
                            "      <td>-114.67</td>\n",
                            "      <td>33.92</td>\n",
                            "      <td>17.0</td>\n",
                            "      <td>97.0</td>\n",
                            "      <td>24.0</td>\n",
                            "      <td>29.0</td>\n",
                            "      <td>15.0</td>\n",
                            "      <td>1.2656</td>\n",
                            "      <td>27500.0</td>\n",
                            "    </tr>\n",
                            "    <tr>\n",
                            "      <th>20</th>\n",
                            "      <td>-114.68</td>\n",
                            "      <td>33.49</td>\n",
                            "      <td>20.0</td>\n",
                            "      <td>1491.0</td>\n",
                            "      <td>360.0</td>\n",
                            "      <td>1135.0</td>\n",
                            "      <td>303.0</td>\n",
                            "      <td>1.6395</td>\n",
                            "      <td>44400.0</td>\n",
                            "    </tr>\n",
                            "    <tr>\n",
                            "      <th>21</th>\n",
                            "      <td>-114.73</td>\n",
                            "      <td>33.43</td>\n",
                            "      <td>24.0</td>\n",
                            "      <td>796.0</td>\n",
                            "      <td>243.0</td>\n",
                            "      <td>227.0</td>\n",
                            "      <td>139.0</td>\n",
                            "      <td>0.8964</td>\n",
                            "      <td>59200.0</td>\n",
                            "    </tr>\n",
                            "    <tr>\n",
                            "      <th>22</th>\n",
                            "      <td>-114.94</td>\n",
                            "      <td>34.55</td>\n",
                            "      <td>20.0</td>\n",
                            "      <td>350.0</td>\n",
                            "      <td>95.0</td>\n",
                            "      <td>119.0</td>\n",
                            "      <td>58.0</td>\n",
                            "      <td>1.6250</td>\n",
                            "      <td>50000.0</td>\n",
                            "    </tr>\n",
                            "    <tr>\n",
                            "      <th>23</th>\n",
                            "      <td>-114.98</td>\n",
                            "      <td>33.82</td>\n",
                            "      <td>15.0</td>\n",
                            "      <td>644.0</td>\n",
                            "      <td>129.0</td>\n",
                            "      <td>137.0</td>\n",
                            "      <td>52.0</td>\n",
                            "      <td>3.2097</td>\n",
                            "      <td>71300.0</td>\n",
                            "    </tr>\n",
                            "    <tr>\n",
                            "      <th>24</th>\n",
                            "      <td>-115.22</td>\n",
                            "      <td>33.54</td>\n",
                            "      <td>18.0</td>\n",
                            "      <td>1706.0</td>\n",
                            "      <td>397.0</td>\n",
                            "      <td>3424.0</td>\n",
                            "      <td>283.0</td>\n",
                            "      <td>1.6250</td>\n",
                            "      <td>53500.0</td>\n",
                            "    </tr>\n",
                            "    <tr>\n",
                            "      <th>25</th>\n",
                            "      <td>-115.32</td>\n",
                            "      <td>32.82</td>\n",
                            "      <td>34.0</td>\n",
                            "      <td>591.0</td>\n",
                            "      <td>139.0</td>\n",
                            "      <td>327.0</td>\n",
                            "      <td>89.0</td>\n",
                            "      <td>3.6528</td>\n",
                            "      <td>100000.0</td>\n",
                            "    </tr>\n",
                            "    <tr>\n",
                            "      <th>26</th>\n",
                            "      <td>-115.37</td>\n",
                            "      <td>32.82</td>\n",
                            "      <td>30.0</td>\n",
                            "      <td>1602.0</td>\n",
                            "      <td>322.0</td>\n",
                            "      <td>1130.0</td>\n",
                            "      <td>335.0</td>\n",
                            "      <td>3.5735</td>\n",
                            "      <td>71100.0</td>\n",
                            "    </tr>\n",
                            "    <tr>\n",
                            "      <th>27</th>\n",
                            "      <td>-115.37</td>\n",
                            "      <td>32.82</td>\n",
                            "      <td>14.0</td>\n",
                            "      <td>1276.0</td>\n",
                            "      <td>270.0</td>\n",
                            "      <td>867.0</td>\n",
                            "      <td>261.0</td>\n",
                            "      <td>1.9375</td>\n",
                            "      <td>80900.0</td>\n",
                            "    </tr>\n",
                            "    <tr>\n",
                            "      <th>28</th>\n",
                            "      <td>-115.37</td>\n",
                            "      <td>32.81</td>\n",
                            "      <td>32.0</td>\n",
                            "      <td>741.0</td>\n",
                            "      <td>191.0</td>\n",
                            "      <td>623.0</td>\n",
                            "      <td>169.0</td>\n",
                            "      <td>1.7604</td>\n",
                            "      <td>68600.0</td>\n",
                            "    </tr>\n",
                            "    <tr>\n",
                            "      <th>29</th>\n",
                            "      <td>-115.37</td>\n",
                            "      <td>32.81</td>\n",
                            "      <td>23.0</td>\n",
                            "      <td>1458.0</td>\n",
                            "      <td>294.0</td>\n",
                            "      <td>866.0</td>\n",
                            "      <td>275.0</td>\n",
                            "      <td>2.3594</td>\n",
                            "      <td>74300.0</td>\n",
                            "    </tr>\n",
                            "    <tr>\n",
                            "      <th>...</th>\n",
                            "      <td>...</td>\n",
                            "      <td>...</td>\n",
                            "      <td>...</td>\n",
                            "      <td>...</td>\n",
                            "      <td>...</td>\n",
                            "      <td>...</td>\n",
                            "      <td>...</td>\n",
                            "      <td>...</td>\n",
                            "      <td>...</td>\n",
                            "    </tr>\n",
                            "    <tr>\n",
                            "      <th>16970</th>\n",
                            "      <td>-124.17</td>\n",
                            "      <td>40.80</td>\n",
                            "      <td>52.0</td>\n",
                            "      <td>1606.0</td>\n",
                            "      <td>419.0</td>\n",
                            "      <td>891.0</td>\n",
                            "      <td>367.0</td>\n",
                            "      <td>1.5850</td>\n",
                            "      <td>75500.0</td>\n",
                            "    </tr>\n",
                            "    <tr>\n",
                            "      <th>16971</th>\n",
                            "      <td>-124.17</td>\n",
                            "      <td>40.80</td>\n",
                            "      <td>52.0</td>\n",
                            "      <td>1557.0</td>\n",
                            "      <td>344.0</td>\n",
                            "      <td>758.0</td>\n",
                            "      <td>319.0</td>\n",
                            "      <td>1.8529</td>\n",
                            "      <td>62500.0</td>\n",
                            "    </tr>\n",
                            "    <tr>\n",
                            "      <th>16972</th>\n",
                            "      <td>-124.17</td>\n",
                            "      <td>40.79</td>\n",
                            "      <td>43.0</td>\n",
                            "      <td>2285.0</td>\n",
                            "      <td>479.0</td>\n",
                            "      <td>1169.0</td>\n",
                            "      <td>482.0</td>\n",
                            "      <td>1.9688</td>\n",
                            "      <td>70500.0</td>\n",
                            "    </tr>\n",
                            "    <tr>\n",
                            "      <th>16973</th>\n",
                            "      <td>-124.17</td>\n",
                            "      <td>40.78</td>\n",
                            "      <td>39.0</td>\n",
                            "      <td>1606.0</td>\n",
                            "      <td>330.0</td>\n",
                            "      <td>731.0</td>\n",
                            "      <td>327.0</td>\n",
                            "      <td>1.6369</td>\n",
                            "      <td>68300.0</td>\n",
                            "    </tr>\n",
                            "    <tr>\n",
                            "      <th>16974</th>\n",
                            "      <td>-124.17</td>\n",
                            "      <td>40.77</td>\n",
                            "      <td>30.0</td>\n",
                            "      <td>1895.0</td>\n",
                            "      <td>366.0</td>\n",
                            "      <td>990.0</td>\n",
                            "      <td>359.0</td>\n",
                            "      <td>2.2227</td>\n",
                            "      <td>81300.0</td>\n",
                            "    </tr>\n",
                            "    <tr>\n",
                            "      <th>16975</th>\n",
                            "      <td>-124.17</td>\n",
                            "      <td>40.76</td>\n",
                            "      <td>26.0</td>\n",
                            "      <td>1776.0</td>\n",
                            "      <td>361.0</td>\n",
                            "      <td>992.0</td>\n",
                            "      <td>380.0</td>\n",
                            "      <td>2.8056</td>\n",
                            "      <td>82800.0</td>\n",
                            "    </tr>\n",
                            "    <tr>\n",
                            "      <th>16976</th>\n",
                            "      <td>-124.17</td>\n",
                            "      <td>40.75</td>\n",
                            "      <td>13.0</td>\n",
                            "      <td>2171.0</td>\n",
                            "      <td>339.0</td>\n",
                            "      <td>951.0</td>\n",
                            "      <td>353.0</td>\n",
                            "      <td>4.8516</td>\n",
                            "      <td>116100.0</td>\n",
                            "    </tr>\n",
                            "    <tr>\n",
                            "      <th>16977</th>\n",
                            "      <td>-124.17</td>\n",
                            "      <td>40.62</td>\n",
                            "      <td>32.0</td>\n",
                            "      <td>1595.0</td>\n",
                            "      <td>309.0</td>\n",
                            "      <td>706.0</td>\n",
                            "      <td>277.0</td>\n",
                            "      <td>2.8958</td>\n",
                            "      <td>86400.0</td>\n",
                            "    </tr>\n",
                            "    <tr>\n",
                            "      <th>16978</th>\n",
                            "      <td>-124.18</td>\n",
                            "      <td>40.79</td>\n",
                            "      <td>39.0</td>\n",
                            "      <td>1836.0</td>\n",
                            "      <td>352.0</td>\n",
                            "      <td>883.0</td>\n",
                            "      <td>337.0</td>\n",
                            "      <td>1.7450</td>\n",
                            "      <td>70500.0</td>\n",
                            "    </tr>\n",
                            "    <tr>\n",
                            "      <th>16979</th>\n",
                            "      <td>-124.18</td>\n",
                            "      <td>40.78</td>\n",
                            "      <td>37.0</td>\n",
                            "      <td>1453.0</td>\n",
                            "      <td>293.0</td>\n",
                            "      <td>867.0</td>\n",
                            "      <td>310.0</td>\n",
                            "      <td>2.5536</td>\n",
                            "      <td>70200.0</td>\n",
                            "    </tr>\n",
                            "    <tr>\n",
                            "      <th>16980</th>\n",
                            "      <td>-124.18</td>\n",
                            "      <td>40.78</td>\n",
                            "      <td>34.0</td>\n",
                            "      <td>1592.0</td>\n",
                            "      <td>364.0</td>\n",
                            "      <td>950.0</td>\n",
                            "      <td>317.0</td>\n",
                            "      <td>2.1607</td>\n",
                            "      <td>67000.0</td>\n",
                            "    </tr>\n",
                            "    <tr>\n",
                            "      <th>16981</th>\n",
                            "      <td>-124.18</td>\n",
                            "      <td>40.78</td>\n",
                            "      <td>33.0</td>\n",
                            "      <td>1076.0</td>\n",
                            "      <td>222.0</td>\n",
                            "      <td>656.0</td>\n",
                            "      <td>236.0</td>\n",
                            "      <td>2.5096</td>\n",
                            "      <td>72200.0</td>\n",
                            "    </tr>\n",
                            "    <tr>\n",
                            "      <th>16982</th>\n",
                            "      <td>-124.18</td>\n",
                            "      <td>40.62</td>\n",
                            "      <td>35.0</td>\n",
                            "      <td>952.0</td>\n",
                            "      <td>178.0</td>\n",
                            "      <td>480.0</td>\n",
                            "      <td>179.0</td>\n",
                            "      <td>3.0536</td>\n",
                            "      <td>107000.0</td>\n",
                            "    </tr>\n",
                            "    <tr>\n",
                            "      <th>16983</th>\n",
                            "      <td>-124.19</td>\n",
                            "      <td>41.78</td>\n",
                            "      <td>15.0</td>\n",
                            "      <td>3140.0</td>\n",
                            "      <td>714.0</td>\n",
                            "      <td>1645.0</td>\n",
                            "      <td>640.0</td>\n",
                            "      <td>1.6654</td>\n",
                            "      <td>74600.0</td>\n",
                            "    </tr>\n",
                            "    <tr>\n",
                            "      <th>16984</th>\n",
                            "      <td>-124.19</td>\n",
                            "      <td>40.78</td>\n",
                            "      <td>37.0</td>\n",
                            "      <td>1371.0</td>\n",
                            "      <td>319.0</td>\n",
                            "      <td>640.0</td>\n",
                            "      <td>260.0</td>\n",
                            "      <td>1.8242</td>\n",
                            "      <td>70000.0</td>\n",
                            "    </tr>\n",
                            "    <tr>\n",
                            "      <th>16985</th>\n",
                            "      <td>-124.19</td>\n",
                            "      <td>40.77</td>\n",
                            "      <td>30.0</td>\n",
                            "      <td>2975.0</td>\n",
                            "      <td>634.0</td>\n",
                            "      <td>1367.0</td>\n",
                            "      <td>583.0</td>\n",
                            "      <td>2.4420</td>\n",
                            "      <td>69000.0</td>\n",
                            "    </tr>\n",
                            "    <tr>\n",
                            "      <th>16986</th>\n",
                            "      <td>-124.19</td>\n",
                            "      <td>40.73</td>\n",
                            "      <td>21.0</td>\n",
                            "      <td>5694.0</td>\n",
                            "      <td>1056.0</td>\n",
                            "      <td>2907.0</td>\n",
                            "      <td>972.0</td>\n",
                            "      <td>3.5363</td>\n",
                            "      <td>90100.0</td>\n",
                            "    </tr>\n",
                            "    <tr>\n",
                            "      <th>16987</th>\n",
                            "      <td>-124.21</td>\n",
                            "      <td>41.77</td>\n",
                            "      <td>17.0</td>\n",
                            "      <td>3461.0</td>\n",
                            "      <td>722.0</td>\n",
                            "      <td>1947.0</td>\n",
                            "      <td>647.0</td>\n",
                            "      <td>2.5795</td>\n",
                            "      <td>68400.0</td>\n",
                            "    </tr>\n",
                            "    <tr>\n",
                            "      <th>16988</th>\n",
                            "      <td>-124.21</td>\n",
                            "      <td>41.75</td>\n",
                            "      <td>20.0</td>\n",
                            "      <td>3810.0</td>\n",
                            "      <td>787.0</td>\n",
                            "      <td>1993.0</td>\n",
                            "      <td>721.0</td>\n",
                            "      <td>2.0074</td>\n",
                            "      <td>66900.0</td>\n",
                            "    </tr>\n",
                            "    <tr>\n",
                            "      <th>16989</th>\n",
                            "      <td>-124.21</td>\n",
                            "      <td>40.75</td>\n",
                            "      <td>32.0</td>\n",
                            "      <td>1218.0</td>\n",
                            "      <td>331.0</td>\n",
                            "      <td>620.0</td>\n",
                            "      <td>268.0</td>\n",
                            "      <td>1.6528</td>\n",
                            "      <td>58100.0</td>\n",
                            "    </tr>\n",
                            "    <tr>\n",
                            "      <th>16990</th>\n",
                            "      <td>-124.22</td>\n",
                            "      <td>41.73</td>\n",
                            "      <td>28.0</td>\n",
                            "      <td>3003.0</td>\n",
                            "      <td>699.0</td>\n",
                            "      <td>1530.0</td>\n",
                            "      <td>653.0</td>\n",
                            "      <td>1.7038</td>\n",
                            "      <td>78300.0</td>\n",
                            "    </tr>\n",
                            "    <tr>\n",
                            "      <th>16991</th>\n",
                            "      <td>-124.23</td>\n",
                            "      <td>41.75</td>\n",
                            "      <td>11.0</td>\n",
                            "      <td>3159.0</td>\n",
                            "      <td>616.0</td>\n",
                            "      <td>1343.0</td>\n",
                            "      <td>479.0</td>\n",
                            "      <td>2.4805</td>\n",
                            "      <td>73200.0</td>\n",
                            "    </tr>\n",
                            "    <tr>\n",
                            "      <th>16992</th>\n",
                            "      <td>-124.23</td>\n",
                            "      <td>40.81</td>\n",
                            "      <td>52.0</td>\n",
                            "      <td>1112.0</td>\n",
                            "      <td>209.0</td>\n",
                            "      <td>544.0</td>\n",
                            "      <td>172.0</td>\n",
                            "      <td>3.3462</td>\n",
                            "      <td>50800.0</td>\n",
                            "    </tr>\n",
                            "    <tr>\n",
                            "      <th>16993</th>\n",
                            "      <td>-124.23</td>\n",
                            "      <td>40.54</td>\n",
                            "      <td>52.0</td>\n",
                            "      <td>2694.0</td>\n",
                            "      <td>453.0</td>\n",
                            "      <td>1152.0</td>\n",
                            "      <td>435.0</td>\n",
                            "      <td>3.0806</td>\n",
                            "      <td>106700.0</td>\n",
                            "    </tr>\n",
                            "    <tr>\n",
                            "      <th>16994</th>\n",
                            "      <td>-124.25</td>\n",
                            "      <td>40.28</td>\n",
                            "      <td>32.0</td>\n",
                            "      <td>1430.0</td>\n",
                            "      <td>419.0</td>\n",
                            "      <td>434.0</td>\n",
                            "      <td>187.0</td>\n",
                            "      <td>1.9417</td>\n",
                            "      <td>76100.0</td>\n",
                            "    </tr>\n",
                            "    <tr>\n",
                            "      <th>16995</th>\n",
                            "      <td>-124.26</td>\n",
                            "      <td>40.58</td>\n",
                            "      <td>52.0</td>\n",
                            "      <td>2217.0</td>\n",
                            "      <td>394.0</td>\n",
                            "      <td>907.0</td>\n",
                            "      <td>369.0</td>\n",
                            "      <td>2.3571</td>\n",
                            "      <td>111400.0</td>\n",
                            "    </tr>\n",
                            "    <tr>\n",
                            "      <th>16996</th>\n",
                            "      <td>-124.27</td>\n",
                            "      <td>40.69</td>\n",
                            "      <td>36.0</td>\n",
                            "      <td>2349.0</td>\n",
                            "      <td>528.0</td>\n",
                            "      <td>1194.0</td>\n",
                            "      <td>465.0</td>\n",
                            "      <td>2.5179</td>\n",
                            "      <td>79000.0</td>\n",
                            "    </tr>\n",
                            "    <tr>\n",
                            "      <th>16997</th>\n",
                            "      <td>-124.30</td>\n",
                            "      <td>41.84</td>\n",
                            "      <td>17.0</td>\n",
                            "      <td>2677.0</td>\n",
                            "      <td>531.0</td>\n",
                            "      <td>1244.0</td>\n",
                            "      <td>456.0</td>\n",
                            "      <td>3.0313</td>\n",
                            "      <td>103600.0</td>\n",
                            "    </tr>\n",
                            "    <tr>\n",
                            "      <th>16998</th>\n",
                            "      <td>-124.30</td>\n",
                            "      <td>41.80</td>\n",
                            "      <td>19.0</td>\n",
                            "      <td>2672.0</td>\n",
                            "      <td>552.0</td>\n",
                            "      <td>1298.0</td>\n",
                            "      <td>478.0</td>\n",
                            "      <td>1.9797</td>\n",
                            "      <td>85800.0</td>\n",
                            "    </tr>\n",
                            "    <tr>\n",
                            "      <th>16999</th>\n",
                            "      <td>-124.35</td>\n",
                            "      <td>40.54</td>\n",
                            "      <td>52.0</td>\n",
                            "      <td>1820.0</td>\n",
                            "      <td>300.0</td>\n",
                            "      <td>806.0</td>\n",
                            "      <td>270.0</td>\n",
                            "      <td>3.0147</td>\n",
                            "      <td>94600.0</td>\n",
                            "    </tr>\n",
                            "  </tbody>\n",
                            "</table>\n",
                            "<p>17000 rows × 9 columns</p>\n",
                            "</div>"
                        ],
                        "text/plain": [
                            "       longitude  latitude  housing_median_age  total_rooms  total_bedrooms  \\\n",
                            "0        -114.31     34.19                15.0       5612.0          1283.0   \n",
                            "1        -114.47     34.40                19.0       7650.0          1901.0   \n",
                            "2        -114.56     33.69                17.0        720.0           174.0   \n",
                            "3        -114.57     33.64                14.0       1501.0           337.0   \n",
                            "4        -114.57     33.57                20.0       1454.0           326.0   \n",
                            "5        -114.58     33.63                29.0       1387.0           236.0   \n",
                            "6        -114.58     33.61                25.0       2907.0           680.0   \n",
                            "7        -114.59     34.83                41.0        812.0           168.0   \n",
                            "8        -114.59     33.61                34.0       4789.0          1175.0   \n",
                            "9        -114.60     34.83                46.0       1497.0           309.0   \n",
                            "10       -114.60     33.62                16.0       3741.0           801.0   \n",
                            "11       -114.60     33.60                21.0       1988.0           483.0   \n",
                            "12       -114.61     34.84                48.0       1291.0           248.0   \n",
                            "13       -114.61     34.83                31.0       2478.0           464.0   \n",
                            "14       -114.63     32.76                15.0       1448.0           378.0   \n",
                            "15       -114.65     34.89                17.0       2556.0           587.0   \n",
                            "16       -114.65     33.60                28.0       1678.0           322.0   \n",
                            "17       -114.65     32.79                21.0         44.0            33.0   \n",
                            "18       -114.66     32.74                17.0       1388.0           386.0   \n",
                            "19       -114.67     33.92                17.0         97.0            24.0   \n",
                            "20       -114.68     33.49                20.0       1491.0           360.0   \n",
                            "21       -114.73     33.43                24.0        796.0           243.0   \n",
                            "22       -114.94     34.55                20.0        350.0            95.0   \n",
                            "23       -114.98     33.82                15.0        644.0           129.0   \n",
                            "24       -115.22     33.54                18.0       1706.0           397.0   \n",
                            "25       -115.32     32.82                34.0        591.0           139.0   \n",
                            "26       -115.37     32.82                30.0       1602.0           322.0   \n",
                            "27       -115.37     32.82                14.0       1276.0           270.0   \n",
                            "28       -115.37     32.81                32.0        741.0           191.0   \n",
                            "29       -115.37     32.81                23.0       1458.0           294.0   \n",
                            "...          ...       ...                 ...          ...             ...   \n",
                            "16970    -124.17     40.80                52.0       1606.0           419.0   \n",
                            "16971    -124.17     40.80                52.0       1557.0           344.0   \n",
                            "16972    -124.17     40.79                43.0       2285.0           479.0   \n",
                            "16973    -124.17     40.78                39.0       1606.0           330.0   \n",
                            "16974    -124.17     40.77                30.0       1895.0           366.0   \n",
                            "16975    -124.17     40.76                26.0       1776.0           361.0   \n",
                            "16976    -124.17     40.75                13.0       2171.0           339.0   \n",
                            "16977    -124.17     40.62                32.0       1595.0           309.0   \n",
                            "16978    -124.18     40.79                39.0       1836.0           352.0   \n",
                            "16979    -124.18     40.78                37.0       1453.0           293.0   \n",
                            "16980    -124.18     40.78                34.0       1592.0           364.0   \n",
                            "16981    -124.18     40.78                33.0       1076.0           222.0   \n",
                            "16982    -124.18     40.62                35.0        952.0           178.0   \n",
                            "16983    -124.19     41.78                15.0       3140.0           714.0   \n",
                            "16984    -124.19     40.78                37.0       1371.0           319.0   \n",
                            "16985    -124.19     40.77                30.0       2975.0           634.0   \n",
                            "16986    -124.19     40.73                21.0       5694.0          1056.0   \n",
                            "16987    -124.21     41.77                17.0       3461.0           722.0   \n",
                            "16988    -124.21     41.75                20.0       3810.0           787.0   \n",
                            "16989    -124.21     40.75                32.0       1218.0           331.0   \n",
                            "16990    -124.22     41.73                28.0       3003.0           699.0   \n",
                            "16991    -124.23     41.75                11.0       3159.0           616.0   \n",
                            "16992    -124.23     40.81                52.0       1112.0           209.0   \n",
                            "16993    -124.23     40.54                52.0       2694.0           453.0   \n",
                            "16994    -124.25     40.28                32.0       1430.0           419.0   \n",
                            "16995    -124.26     40.58                52.0       2217.0           394.0   \n",
                            "16996    -124.27     40.69                36.0       2349.0           528.0   \n",
                            "16997    -124.30     41.84                17.0       2677.0           531.0   \n",
                            "16998    -124.30     41.80                19.0       2672.0           552.0   \n",
                            "16999    -124.35     40.54                52.0       1820.0           300.0   \n",
                            "\n",
                            "       population  households  median_income  median_house_value  \n",
                            "0          1015.0       472.0         1.4936             66900.0  \n",
                            "1          1129.0       463.0         1.8200             80100.0  \n",
                            "2           333.0       117.0         1.6509             85700.0  \n",
                            "3           515.0       226.0         3.1917             73400.0  \n",
                            "4           624.0       262.0         1.9250             65500.0  \n",
                            "5           671.0       239.0         3.3438             74000.0  \n",
                            "6          1841.0       633.0         2.6768             82400.0  \n",
                            "7           375.0       158.0         1.7083             48500.0  \n",
                            "8          3134.0      1056.0         2.1782             58400.0  \n",
                            "9           787.0       271.0         2.1908             48100.0  \n",
                            "10         2434.0       824.0         2.6797             86500.0  \n",
                            "11         1182.0       437.0         1.6250             62000.0  \n",
                            "12          580.0       211.0         2.1571             48600.0  \n",
                            "13         1346.0       479.0         3.2120             70400.0  \n",
                            "14          949.0       300.0         0.8585             45000.0  \n",
                            "15         1005.0       401.0         1.6991             69100.0  \n",
                            "16          666.0       256.0         2.9653             94900.0  \n",
                            "17           64.0        27.0         0.8571             25000.0  \n",
                            "18          775.0       320.0         1.2049             44000.0  \n",
                            "19           29.0        15.0         1.2656             27500.0  \n",
                            "20         1135.0       303.0         1.6395             44400.0  \n",
                            "21          227.0       139.0         0.8964             59200.0  \n",
                            "22          119.0        58.0         1.6250             50000.0  \n",
                            "23          137.0        52.0         3.2097             71300.0  \n",
                            "24         3424.0       283.0         1.6250             53500.0  \n",
                            "25          327.0        89.0         3.6528            100000.0  \n",
                            "26         1130.0       335.0         3.5735             71100.0  \n",
                            "27          867.0       261.0         1.9375             80900.0  \n",
                            "28          623.0       169.0         1.7604             68600.0  \n",
                            "29          866.0       275.0         2.3594             74300.0  \n",
                            "...           ...         ...            ...                 ...  \n",
                            "16970       891.0       367.0         1.5850             75500.0  \n",
                            "16971       758.0       319.0         1.8529             62500.0  \n",
                            "16972      1169.0       482.0         1.9688             70500.0  \n",
                            "16973       731.0       327.0         1.6369             68300.0  \n",
                            "16974       990.0       359.0         2.2227             81300.0  \n",
                            "16975       992.0       380.0         2.8056             82800.0  \n",
                            "16976       951.0       353.0         4.8516            116100.0  \n",
                            "16977       706.0       277.0         2.8958             86400.0  \n",
                            "16978       883.0       337.0         1.7450             70500.0  \n",
                            "16979       867.0       310.0         2.5536             70200.0  \n",
                            "16980       950.0       317.0         2.1607             67000.0  \n",
                            "16981       656.0       236.0         2.5096             72200.0  \n",
                            "16982       480.0       179.0         3.0536            107000.0  \n",
                            "16983      1645.0       640.0         1.6654             74600.0  \n",
                            "16984       640.0       260.0         1.8242             70000.0  \n",
                            "16985      1367.0       583.0         2.4420             69000.0  \n",
                            "16986      2907.0       972.0         3.5363             90100.0  \n",
                            "16987      1947.0       647.0         2.5795             68400.0  \n",
                            "16988      1993.0       721.0         2.0074             66900.0  \n",
                            "16989       620.0       268.0         1.6528             58100.0  \n",
                            "16990      1530.0       653.0         1.7038             78300.0  \n",
                            "16991      1343.0       479.0         2.4805             73200.0  \n",
                            "16992       544.0       172.0         3.3462             50800.0  \n",
                            "16993      1152.0       435.0         3.0806            106700.0  \n",
                            "16994       434.0       187.0         1.9417             76100.0  \n",
                            "16995       907.0       369.0         2.3571            111400.0  \n",
                            "16996      1194.0       465.0         2.5179             79000.0  \n",
                            "16997      1244.0       456.0         3.0313            103600.0  \n",
                            "16998      1298.0       478.0         1.9797             85800.0  \n",
                            "16999       806.0       270.0         3.0147             94600.0  \n",
                            "\n",
                            "[17000 rows x 9 columns]"
                        ]
                    },
                    "execution_count": 4,
                    "metadata": {
                        "tags": []
                    },
                    "output_type": "execute_result"
                }
            ],
            "source": [
                "df"
            ]
        },
        {
            "cell_type": "markdown",
            "metadata": {
                "colab_type": "text",
                "id": "1MgSOxlt3maP"
            },
            "source": [
                "## 先頭の数件だけを表示\n",
                "\n",
                "データを数件のみ確認したい場合は、データフレームがもつ `head()` メソッドを使用します。\n",
                "`head()` はデフォルトで先頭から 5 件のデータを表示しますが、`head(3)` のように引数に表示したいデータ件数を指定すると、指定された件数だけを表示することもできます。\n",
                "それでは、`head()` を実行してみましょう。"
            ]
        },
        {
            "cell_type": "code",
            "execution_count": 5,
            "metadata": {
                "colab": {
                    "base_uri": "https://localhost:8080/",
                    "height": 200
                },
                "colab_type": "code",
                "id": "JoO8FkT8s5p9",
                "outputId": "639b3b48-6e32-4f73-9f20-d727bc5c026f"
            },
            "outputs": [
                {
                    "data": {
                        "text/html": [
                            "<div>\n",
                            "<style scoped>\n",
                            "    .dataframe tbody tr th:only-of-type {\n",
                            "        vertical-align: middle;\n",
                            "    }\n",
                            "\n",
                            "    .dataframe tbody tr th {\n",
                            "        vertical-align: top;\n",
                            "    }\n",
                            "\n",
                            "    .dataframe thead th {\n",
                            "        text-align: right;\n",
                            "    }\n",
                            "</style>\n",
                            "<table border=\"1\" class=\"dataframe\">\n",
                            "  <thead>\n",
                            "    <tr style=\"text-align: right;\">\n",
                            "      <th></th>\n",
                            "      <th>longitude</th>\n",
                            "      <th>latitude</th>\n",
                            "      <th>housing_median_age</th>\n",
                            "      <th>total_rooms</th>\n",
                            "      <th>total_bedrooms</th>\n",
                            "      <th>population</th>\n",
                            "      <th>households</th>\n",
                            "      <th>median_income</th>\n",
                            "      <th>median_house_value</th>\n",
                            "    </tr>\n",
                            "  </thead>\n",
                            "  <tbody>\n",
                            "    <tr>\n",
                            "      <th>0</th>\n",
                            "      <td>-114.31</td>\n",
                            "      <td>34.19</td>\n",
                            "      <td>15.0</td>\n",
                            "      <td>5612.0</td>\n",
                            "      <td>1283.0</td>\n",
                            "      <td>1015.0</td>\n",
                            "      <td>472.0</td>\n",
                            "      <td>1.4936</td>\n",
                            "      <td>66900.0</td>\n",
                            "    </tr>\n",
                            "    <tr>\n",
                            "      <th>1</th>\n",
                            "      <td>-114.47</td>\n",
                            "      <td>34.40</td>\n",
                            "      <td>19.0</td>\n",
                            "      <td>7650.0</td>\n",
                            "      <td>1901.0</td>\n",
                            "      <td>1129.0</td>\n",
                            "      <td>463.0</td>\n",
                            "      <td>1.8200</td>\n",
                            "      <td>80100.0</td>\n",
                            "    </tr>\n",
                            "    <tr>\n",
                            "      <th>2</th>\n",
                            "      <td>-114.56</td>\n",
                            "      <td>33.69</td>\n",
                            "      <td>17.0</td>\n",
                            "      <td>720.0</td>\n",
                            "      <td>174.0</td>\n",
                            "      <td>333.0</td>\n",
                            "      <td>117.0</td>\n",
                            "      <td>1.6509</td>\n",
                            "      <td>85700.0</td>\n",
                            "    </tr>\n",
                            "    <tr>\n",
                            "      <th>3</th>\n",
                            "      <td>-114.57</td>\n",
                            "      <td>33.64</td>\n",
                            "      <td>14.0</td>\n",
                            "      <td>1501.0</td>\n",
                            "      <td>337.0</td>\n",
                            "      <td>515.0</td>\n",
                            "      <td>226.0</td>\n",
                            "      <td>3.1917</td>\n",
                            "      <td>73400.0</td>\n",
                            "    </tr>\n",
                            "    <tr>\n",
                            "      <th>4</th>\n",
                            "      <td>-114.57</td>\n",
                            "      <td>33.57</td>\n",
                            "      <td>20.0</td>\n",
                            "      <td>1454.0</td>\n",
                            "      <td>326.0</td>\n",
                            "      <td>624.0</td>\n",
                            "      <td>262.0</td>\n",
                            "      <td>1.9250</td>\n",
                            "      <td>65500.0</td>\n",
                            "    </tr>\n",
                            "  </tbody>\n",
                            "</table>\n",
                            "</div>"
                        ],
                        "text/plain": [
                            "   longitude  latitude  housing_median_age  total_rooms  total_bedrooms  \\\n",
                            "0    -114.31     34.19                15.0       5612.0          1283.0   \n",
                            "1    -114.47     34.40                19.0       7650.0          1901.0   \n",
                            "2    -114.56     33.69                17.0        720.0           174.0   \n",
                            "3    -114.57     33.64                14.0       1501.0           337.0   \n",
                            "4    -114.57     33.57                20.0       1454.0           326.0   \n",
                            "\n",
                            "   population  households  median_income  median_house_value  \n",
                            "0      1015.0       472.0         1.4936             66900.0  \n",
                            "1      1129.0       463.0         1.8200             80100.0  \n",
                            "2       333.0       117.0         1.6509             85700.0  \n",
                            "3       515.0       226.0         3.1917             73400.0  \n",
                            "4       624.0       262.0         1.9250             65500.0  "
                        ]
                    },
                    "execution_count": 5,
                    "metadata": {
                        "tags": []
                    },
                    "output_type": "execute_result"
                }
            ],
            "source": [
                "df.head()"
            ]
        },
        {
            "cell_type": "code",
            "execution_count": 6,
            "metadata": {
                "colab": {
                    "base_uri": "https://localhost:8080/",
                    "height": 139
                },
                "colab_type": "code",
                "id": "UcPEPxhr300W",
                "outputId": "0eed6f00-6935-47ff-b0c1-8c60d187fbd8"
            },
            "outputs": [
                {
                    "data": {
                        "text/html": [
                            "<div>\n",
                            "<style scoped>\n",
                            "    .dataframe tbody tr th:only-of-type {\n",
                            "        vertical-align: middle;\n",
                            "    }\n",
                            "\n",
                            "    .dataframe tbody tr th {\n",
                            "        vertical-align: top;\n",
                            "    }\n",
                            "\n",
                            "    .dataframe thead th {\n",
                            "        text-align: right;\n",
                            "    }\n",
                            "</style>\n",
                            "<table border=\"1\" class=\"dataframe\">\n",
                            "  <thead>\n",
                            "    <tr style=\"text-align: right;\">\n",
                            "      <th></th>\n",
                            "      <th>longitude</th>\n",
                            "      <th>latitude</th>\n",
                            "      <th>housing_median_age</th>\n",
                            "      <th>total_rooms</th>\n",
                            "      <th>total_bedrooms</th>\n",
                            "      <th>population</th>\n",
                            "      <th>households</th>\n",
                            "      <th>median_income</th>\n",
                            "      <th>median_house_value</th>\n",
                            "    </tr>\n",
                            "  </thead>\n",
                            "  <tbody>\n",
                            "    <tr>\n",
                            "      <th>0</th>\n",
                            "      <td>-114.31</td>\n",
                            "      <td>34.19</td>\n",
                            "      <td>15.0</td>\n",
                            "      <td>5612.0</td>\n",
                            "      <td>1283.0</td>\n",
                            "      <td>1015.0</td>\n",
                            "      <td>472.0</td>\n",
                            "      <td>1.4936</td>\n",
                            "      <td>66900.0</td>\n",
                            "    </tr>\n",
                            "    <tr>\n",
                            "      <th>1</th>\n",
                            "      <td>-114.47</td>\n",
                            "      <td>34.40</td>\n",
                            "      <td>19.0</td>\n",
                            "      <td>7650.0</td>\n",
                            "      <td>1901.0</td>\n",
                            "      <td>1129.0</td>\n",
                            "      <td>463.0</td>\n",
                            "      <td>1.8200</td>\n",
                            "      <td>80100.0</td>\n",
                            "    </tr>\n",
                            "    <tr>\n",
                            "      <th>2</th>\n",
                            "      <td>-114.56</td>\n",
                            "      <td>33.69</td>\n",
                            "      <td>17.0</td>\n",
                            "      <td>720.0</td>\n",
                            "      <td>174.0</td>\n",
                            "      <td>333.0</td>\n",
                            "      <td>117.0</td>\n",
                            "      <td>1.6509</td>\n",
                            "      <td>85700.0</td>\n",
                            "    </tr>\n",
                            "  </tbody>\n",
                            "</table>\n",
                            "</div>"
                        ],
                        "text/plain": [
                            "   longitude  latitude  housing_median_age  total_rooms  total_bedrooms  \\\n",
                            "0    -114.31     34.19                15.0       5612.0          1283.0   \n",
                            "1    -114.47     34.40                19.0       7650.0          1901.0   \n",
                            "2    -114.56     33.69                17.0        720.0           174.0   \n",
                            "\n",
                            "   population  households  median_income  median_house_value  \n",
                            "0      1015.0       472.0         1.4936             66900.0  \n",
                            "1      1129.0       463.0         1.8200             80100.0  \n",
                            "2       333.0       117.0         1.6509             85700.0  "
                        ]
                    },
                    "execution_count": 6,
                    "metadata": {
                        "tags": []
                    },
                    "output_type": "execute_result"
                }
            ],
            "source": [
                "df.head(3)"
            ]
        },
        {
            "cell_type": "markdown",
            "metadata": {
                "colab_type": "text",
                "id": "7uZd00IQ47fg"
            },
            "source": [
                "各列にアクセスしたい場合には、辞書のように列の名前をキーとしてしているするとアクセスすることができます。"
            ]
        },
        {
            "cell_type": "code",
            "execution_count": 7,
            "metadata": {
                "colab": {
                    "base_uri": "https://localhost:8080/",
                    "height": 88
                },
                "colab_type": "code",
                "id": "2MM8BHDt44F-",
                "outputId": "e9270663-c3a6-41b6-9dbd-62857eba1148"
            },
            "outputs": [
                {
                    "data": {
                        "text/plain": [
                            "0   -114.31\n",
                            "1   -114.47\n",
                            "2   -114.56\n",
                            "Name: longitude, dtype: float64"
                        ]
                    },
                    "execution_count": 7,
                    "metadata": {
                        "tags": []
                    },
                    "output_type": "execute_result"
                }
            ],
            "source": [
                "df['longitude'].head(3)"
            ]
        },
        {
            "cell_type": "markdown",
            "metadata": {
                "colab_type": "text",
                "id": "7Uy36D31uibB"
            },
            "source": [
                "## CSV ファイルの保存\n",
                "\n",
                "Pandas ではCSVファイルの読み込みだけでなく、書き込みを簡単に行う `to_csv()` が用意されています。"
            ]
        },
        {
            "cell_type": "code",
            "execution_count": 8,
            "metadata": {
                "colab": {},
                "colab_type": "code",
                "id": "YpLmtcDHusQt"
            },
            "outputs": [],
            "source": [
                "df.to_csv('sample.csv')"
            ]
        },
        {
            "cell_type": "code",
            "execution_count": 9,
            "metadata": {
                "colab": {
                    "base_uri": "https://localhost:8080/",
                    "height": 35
                },
                "colab_type": "code",
                "id": "Qa8YM143u7Yw",
                "outputId": "7e8295ca-f99e-433d-de77-2b5a1da662ab"
            },
            "outputs": [
                {
                    "name": "stdout",
                    "output_type": "stream",
                    "text": [
                        "sample.csv\n"
                    ]
                }
            ],
            "source": [
                "%%bash\n",
                "ls sample.csv"
            ]
        },
        {
            "cell_type": "markdown",
            "metadata": {
                "colab_type": "text",
                "id": "7fN9CvUmvMQH"
            },
            "source": [
                "## 統計量の算出\n",
                "\n",
                "`pandas.DataFrame` は `numpy.ndarray`と同じような機能を持っており、統計量やデータ構造に関する情報が簡単に取得できます。"
            ]
        },
        {
            "cell_type": "code",
            "execution_count": 10,
            "metadata": {
                "colab": {
                    "base_uri": "https://localhost:8080/",
                    "height": 35
                },
                "colab_type": "code",
                "id": "eLEJV26Vs-wM",
                "outputId": "92fbdbc0-c0f2-424f-a310-0e606e4d8ddd"
            },
            "outputs": [
                {
                    "data": {
                        "text/plain": [
                            "(17000, 9)"
                        ]
                    },
                    "execution_count": 10,
                    "metadata": {
                        "tags": []
                    },
                    "output_type": "execute_result"
                }
            ],
            "source": [
                "# 形の確認\n",
                "df.shape"
            ]
        },
        {
            "cell_type": "code",
            "execution_count": 11,
            "metadata": {
                "colab": {
                    "base_uri": "https://localhost:8080/",
                    "height": 195
                },
                "colab_type": "code",
                "id": "zctW3yvxuAWM",
                "outputId": "1d555192-a7b2-4ec8-f3b7-b0eb67504b1f"
            },
            "outputs": [
                {
                    "data": {
                        "text/plain": [
                            "longitude               -119.562108\n",
                            "latitude                  35.625225\n",
                            "housing_median_age        28.589353\n",
                            "total_rooms             2643.664412\n",
                            "total_bedrooms           539.410824\n",
                            "population              1429.573941\n",
                            "households               501.221941\n",
                            "median_income              3.883578\n",
                            "median_house_value    207300.912353\n",
                            "dtype: float64"
                        ]
                    },
                    "execution_count": 11,
                    "metadata": {
                        "tags": []
                    },
                    "output_type": "execute_result"
                }
            ],
            "source": [
                "# 平均\n",
                "df.mean()"
            ]
        },
        {
            "cell_type": "code",
            "execution_count": 12,
            "metadata": {
                "colab": {
                    "base_uri": "https://localhost:8080/",
                    "height": 195
                },
                "colab_type": "code",
                "id": "qxs0qB7WuAeY",
                "outputId": "4f5f8ed4-224f-4aa1-9681-89fda20d8f4b"
            },
            "outputs": [
                {
                    "data": {
                        "text/plain": [
                            "longitude             17000\n",
                            "latitude              17000\n",
                            "housing_median_age    17000\n",
                            "total_rooms           17000\n",
                            "total_bedrooms        17000\n",
                            "population            17000\n",
                            "households            17000\n",
                            "median_income         17000\n",
                            "median_house_value    17000\n",
                            "dtype: int64"
                        ]
                    },
                    "execution_count": 12,
                    "metadata": {
                        "tags": []
                    },
                    "output_type": "execute_result"
                }
            ],
            "source": [
                "# レコードの数（欠損値を見つけるために使えます）\n",
                "df.count()"
            ]
        },
        {
            "cell_type": "markdown",
            "metadata": {
                "colab_type": "text",
                "id": "z0TJ19egvQv7"
            },
            "source": [
                "また、データの特徴をおおまかに理解するためにとても便利な機能として、概要を算出できる `describe()` 関数も用意されています。"
            ]
        },
        {
            "cell_type": "code",
            "execution_count": 13,
            "metadata": {
                "colab": {
                    "base_uri": "https://localhost:8080/",
                    "height": 291
                },
                "colab_type": "code",
                "id": "T5kLGiCYuAbz",
                "outputId": "3de93947-60fc-4e94-96c5-b3bd407d29c3"
            },
            "outputs": [
                {
                    "data": {
                        "text/html": [
                            "<div>\n",
                            "<style scoped>\n",
                            "    .dataframe tbody tr th:only-of-type {\n",
                            "        vertical-align: middle;\n",
                            "    }\n",
                            "\n",
                            "    .dataframe tbody tr th {\n",
                            "        vertical-align: top;\n",
                            "    }\n",
                            "\n",
                            "    .dataframe thead th {\n",
                            "        text-align: right;\n",
                            "    }\n",
                            "</style>\n",
                            "<table border=\"1\" class=\"dataframe\">\n",
                            "  <thead>\n",
                            "    <tr style=\"text-align: right;\">\n",
                            "      <th></th>\n",
                            "      <th>longitude</th>\n",
                            "      <th>latitude</th>\n",
                            "      <th>housing_median_age</th>\n",
                            "      <th>total_rooms</th>\n",
                            "      <th>total_bedrooms</th>\n",
                            "      <th>population</th>\n",
                            "      <th>households</th>\n",
                            "      <th>median_income</th>\n",
                            "      <th>median_house_value</th>\n",
                            "    </tr>\n",
                            "  </thead>\n",
                            "  <tbody>\n",
                            "    <tr>\n",
                            "      <th>count</th>\n",
                            "      <td>17000.000000</td>\n",
                            "      <td>17000.000000</td>\n",
                            "      <td>17000.000000</td>\n",
                            "      <td>17000.000000</td>\n",
                            "      <td>17000.000000</td>\n",
                            "      <td>17000.000000</td>\n",
                            "      <td>17000.000000</td>\n",
                            "      <td>17000.000000</td>\n",
                            "      <td>17000.000000</td>\n",
                            "    </tr>\n",
                            "    <tr>\n",
                            "      <th>mean</th>\n",
                            "      <td>-119.562108</td>\n",
                            "      <td>35.625225</td>\n",
                            "      <td>28.589353</td>\n",
                            "      <td>2643.664412</td>\n",
                            "      <td>539.410824</td>\n",
                            "      <td>1429.573941</td>\n",
                            "      <td>501.221941</td>\n",
                            "      <td>3.883578</td>\n",
                            "      <td>207300.912353</td>\n",
                            "    </tr>\n",
                            "    <tr>\n",
                            "      <th>std</th>\n",
                            "      <td>2.005166</td>\n",
                            "      <td>2.137340</td>\n",
                            "      <td>12.586937</td>\n",
                            "      <td>2179.947071</td>\n",
                            "      <td>421.499452</td>\n",
                            "      <td>1147.852959</td>\n",
                            "      <td>384.520841</td>\n",
                            "      <td>1.908157</td>\n",
                            "      <td>115983.764387</td>\n",
                            "    </tr>\n",
                            "    <tr>\n",
                            "      <th>min</th>\n",
                            "      <td>-124.350000</td>\n",
                            "      <td>32.540000</td>\n",
                            "      <td>1.000000</td>\n",
                            "      <td>2.000000</td>\n",
                            "      <td>1.000000</td>\n",
                            "      <td>3.000000</td>\n",
                            "      <td>1.000000</td>\n",
                            "      <td>0.499900</td>\n",
                            "      <td>14999.000000</td>\n",
                            "    </tr>\n",
                            "    <tr>\n",
                            "      <th>25%</th>\n",
                            "      <td>-121.790000</td>\n",
                            "      <td>33.930000</td>\n",
                            "      <td>18.000000</td>\n",
                            "      <td>1462.000000</td>\n",
                            "      <td>297.000000</td>\n",
                            "      <td>790.000000</td>\n",
                            "      <td>282.000000</td>\n",
                            "      <td>2.566375</td>\n",
                            "      <td>119400.000000</td>\n",
                            "    </tr>\n",
                            "    <tr>\n",
                            "      <th>50%</th>\n",
                            "      <td>-118.490000</td>\n",
                            "      <td>34.250000</td>\n",
                            "      <td>29.000000</td>\n",
                            "      <td>2127.000000</td>\n",
                            "      <td>434.000000</td>\n",
                            "      <td>1167.000000</td>\n",
                            "      <td>409.000000</td>\n",
                            "      <td>3.544600</td>\n",
                            "      <td>180400.000000</td>\n",
                            "    </tr>\n",
                            "    <tr>\n",
                            "      <th>75%</th>\n",
                            "      <td>-118.000000</td>\n",
                            "      <td>37.720000</td>\n",
                            "      <td>37.000000</td>\n",
                            "      <td>3151.250000</td>\n",
                            "      <td>648.250000</td>\n",
                            "      <td>1721.000000</td>\n",
                            "      <td>605.250000</td>\n",
                            "      <td>4.767000</td>\n",
                            "      <td>265000.000000</td>\n",
                            "    </tr>\n",
                            "    <tr>\n",
                            "      <th>max</th>\n",
                            "      <td>-114.310000</td>\n",
                            "      <td>41.950000</td>\n",
                            "      <td>52.000000</td>\n",
                            "      <td>37937.000000</td>\n",
                            "      <td>6445.000000</td>\n",
                            "      <td>35682.000000</td>\n",
                            "      <td>6082.000000</td>\n",
                            "      <td>15.000100</td>\n",
                            "      <td>500001.000000</td>\n",
                            "    </tr>\n",
                            "  </tbody>\n",
                            "</table>\n",
                            "</div>"
                        ],
                        "text/plain": [
                            "          longitude      latitude  housing_median_age   total_rooms  \\\n",
                            "count  17000.000000  17000.000000        17000.000000  17000.000000   \n",
                            "mean    -119.562108     35.625225           28.589353   2643.664412   \n",
                            "std        2.005166      2.137340           12.586937   2179.947071   \n",
                            "min     -124.350000     32.540000            1.000000      2.000000   \n",
                            "25%     -121.790000     33.930000           18.000000   1462.000000   \n",
                            "50%     -118.490000     34.250000           29.000000   2127.000000   \n",
                            "75%     -118.000000     37.720000           37.000000   3151.250000   \n",
                            "max     -114.310000     41.950000           52.000000  37937.000000   \n",
                            "\n",
                            "       total_bedrooms    population    households  median_income  \\\n",
                            "count    17000.000000  17000.000000  17000.000000   17000.000000   \n",
                            "mean       539.410824   1429.573941    501.221941       3.883578   \n",
                            "std        421.499452   1147.852959    384.520841       1.908157   \n",
                            "min          1.000000      3.000000      1.000000       0.499900   \n",
                            "25%        297.000000    790.000000    282.000000       2.566375   \n",
                            "50%        434.000000   1167.000000    409.000000       3.544600   \n",
                            "75%        648.250000   1721.000000    605.250000       4.767000   \n",
                            "max       6445.000000  35682.000000   6082.000000      15.000100   \n",
                            "\n",
                            "       median_house_value  \n",
                            "count        17000.000000  \n",
                            "mean        207300.912353  \n",
                            "std         115983.764387  \n",
                            "min          14999.000000  \n",
                            "25%         119400.000000  \n",
                            "50%         180400.000000  \n",
                            "75%         265000.000000  \n",
                            "max         500001.000000  "
                        ]
                    },
                    "execution_count": 13,
                    "metadata": {
                        "tags": []
                    },
                    "output_type": "execute_result"
                }
            ],
            "source": [
                "# データの概要\n",
                "df.describe()"
            ]
        },
        {
            "cell_type": "markdown",
            "metadata": {
                "colab_type": "text",
                "id": "bBq3AXbwNzu5"
            },
            "source": [
                "また、もうひとつ便利な関数として相関係数を算出する `corr` があります。\n",
                "入力変数間や入出力間の相関を事前に手軽に確認することができます。"
            ]
        },
        {
            "cell_type": "code",
            "execution_count": 14,
            "metadata": {
                "colab": {
                    "base_uri": "https://localhost:8080/",
                    "height": 321
                },
                "colab_type": "code",
                "id": "OnFXNN8UNoyR",
                "outputId": "1db99220-415d-4482-ddec-37f849f6aae3"
            },
            "outputs": [
                {
                    "data": {
                        "text/html": [
                            "<div>\n",
                            "<style scoped>\n",
                            "    .dataframe tbody tr th:only-of-type {\n",
                            "        vertical-align: middle;\n",
                            "    }\n",
                            "\n",
                            "    .dataframe tbody tr th {\n",
                            "        vertical-align: top;\n",
                            "    }\n",
                            "\n",
                            "    .dataframe thead th {\n",
                            "        text-align: right;\n",
                            "    }\n",
                            "</style>\n",
                            "<table border=\"1\" class=\"dataframe\">\n",
                            "  <thead>\n",
                            "    <tr style=\"text-align: right;\">\n",
                            "      <th></th>\n",
                            "      <th>longitude</th>\n",
                            "      <th>latitude</th>\n",
                            "      <th>housing_median_age</th>\n",
                            "      <th>total_rooms</th>\n",
                            "      <th>total_bedrooms</th>\n",
                            "      <th>population</th>\n",
                            "      <th>households</th>\n",
                            "      <th>median_income</th>\n",
                            "      <th>median_house_value</th>\n",
                            "    </tr>\n",
                            "  </thead>\n",
                            "  <tbody>\n",
                            "    <tr>\n",
                            "      <th>longitude</th>\n",
                            "      <td>1.000000</td>\n",
                            "      <td>-0.925208</td>\n",
                            "      <td>-0.114250</td>\n",
                            "      <td>0.047010</td>\n",
                            "      <td>0.071802</td>\n",
                            "      <td>0.101674</td>\n",
                            "      <td>0.059628</td>\n",
                            "      <td>-0.015485</td>\n",
                            "      <td>-0.044982</td>\n",
                            "    </tr>\n",
                            "    <tr>\n",
                            "      <th>latitude</th>\n",
                            "      <td>-0.925208</td>\n",
                            "      <td>1.000000</td>\n",
                            "      <td>0.016454</td>\n",
                            "      <td>-0.038773</td>\n",
                            "      <td>-0.069373</td>\n",
                            "      <td>-0.111261</td>\n",
                            "      <td>-0.074902</td>\n",
                            "      <td>-0.080303</td>\n",
                            "      <td>-0.144917</td>\n",
                            "    </tr>\n",
                            "    <tr>\n",
                            "      <th>housing_median_age</th>\n",
                            "      <td>-0.114250</td>\n",
                            "      <td>0.016454</td>\n",
                            "      <td>1.000000</td>\n",
                            "      <td>-0.360984</td>\n",
                            "      <td>-0.320434</td>\n",
                            "      <td>-0.295890</td>\n",
                            "      <td>-0.302754</td>\n",
                            "      <td>-0.115932</td>\n",
                            "      <td>0.106758</td>\n",
                            "    </tr>\n",
                            "    <tr>\n",
                            "      <th>total_rooms</th>\n",
                            "      <td>0.047010</td>\n",
                            "      <td>-0.038773</td>\n",
                            "      <td>-0.360984</td>\n",
                            "      <td>1.000000</td>\n",
                            "      <td>0.928403</td>\n",
                            "      <td>0.860170</td>\n",
                            "      <td>0.919018</td>\n",
                            "      <td>0.195383</td>\n",
                            "      <td>0.130991</td>\n",
                            "    </tr>\n",
                            "    <tr>\n",
                            "      <th>total_bedrooms</th>\n",
                            "      <td>0.071802</td>\n",
                            "      <td>-0.069373</td>\n",
                            "      <td>-0.320434</td>\n",
                            "      <td>0.928403</td>\n",
                            "      <td>1.000000</td>\n",
                            "      <td>0.881169</td>\n",
                            "      <td>0.980920</td>\n",
                            "      <td>-0.013495</td>\n",
                            "      <td>0.045783</td>\n",
                            "    </tr>\n",
                            "    <tr>\n",
                            "      <th>population</th>\n",
                            "      <td>0.101674</td>\n",
                            "      <td>-0.111261</td>\n",
                            "      <td>-0.295890</td>\n",
                            "      <td>0.860170</td>\n",
                            "      <td>0.881169</td>\n",
                            "      <td>1.000000</td>\n",
                            "      <td>0.909247</td>\n",
                            "      <td>-0.000638</td>\n",
                            "      <td>-0.027850</td>\n",
                            "    </tr>\n",
                            "    <tr>\n",
                            "      <th>households</th>\n",
                            "      <td>0.059628</td>\n",
                            "      <td>-0.074902</td>\n",
                            "      <td>-0.302754</td>\n",
                            "      <td>0.919018</td>\n",
                            "      <td>0.980920</td>\n",
                            "      <td>0.909247</td>\n",
                            "      <td>1.000000</td>\n",
                            "      <td>0.007644</td>\n",
                            "      <td>0.061031</td>\n",
                            "    </tr>\n",
                            "    <tr>\n",
                            "      <th>median_income</th>\n",
                            "      <td>-0.015485</td>\n",
                            "      <td>-0.080303</td>\n",
                            "      <td>-0.115932</td>\n",
                            "      <td>0.195383</td>\n",
                            "      <td>-0.013495</td>\n",
                            "      <td>-0.000638</td>\n",
                            "      <td>0.007644</td>\n",
                            "      <td>1.000000</td>\n",
                            "      <td>0.691871</td>\n",
                            "    </tr>\n",
                            "    <tr>\n",
                            "      <th>median_house_value</th>\n",
                            "      <td>-0.044982</td>\n",
                            "      <td>-0.144917</td>\n",
                            "      <td>0.106758</td>\n",
                            "      <td>0.130991</td>\n",
                            "      <td>0.045783</td>\n",
                            "      <td>-0.027850</td>\n",
                            "      <td>0.061031</td>\n",
                            "      <td>0.691871</td>\n",
                            "      <td>1.000000</td>\n",
                            "    </tr>\n",
                            "  </tbody>\n",
                            "</table>\n",
                            "</div>"
                        ],
                        "text/plain": [
                            "                    longitude  latitude  housing_median_age  total_rooms  \\\n",
                            "longitude            1.000000 -0.925208           -0.114250     0.047010   \n",
                            "latitude            -0.925208  1.000000            0.016454    -0.038773   \n",
                            "housing_median_age  -0.114250  0.016454            1.000000    -0.360984   \n",
                            "total_rooms          0.047010 -0.038773           -0.360984     1.000000   \n",
                            "total_bedrooms       0.071802 -0.069373           -0.320434     0.928403   \n",
                            "population           0.101674 -0.111261           -0.295890     0.860170   \n",
                            "households           0.059628 -0.074902           -0.302754     0.919018   \n",
                            "median_income       -0.015485 -0.080303           -0.115932     0.195383   \n",
                            "median_house_value  -0.044982 -0.144917            0.106758     0.130991   \n",
                            "\n",
                            "                    total_bedrooms  population  households  median_income  \\\n",
                            "longitude                 0.071802    0.101674    0.059628      -0.015485   \n",
                            "latitude                 -0.069373   -0.111261   -0.074902      -0.080303   \n",
                            "housing_median_age       -0.320434   -0.295890   -0.302754      -0.115932   \n",
                            "total_rooms               0.928403    0.860170    0.919018       0.195383   \n",
                            "total_bedrooms            1.000000    0.881169    0.980920      -0.013495   \n",
                            "population                0.881169    1.000000    0.909247      -0.000638   \n",
                            "households                0.980920    0.909247    1.000000       0.007644   \n",
                            "median_income            -0.013495   -0.000638    0.007644       1.000000   \n",
                            "median_house_value        0.045783   -0.027850    0.061031       0.691871   \n",
                            "\n",
                            "                    median_house_value  \n",
                            "longitude                    -0.044982  \n",
                            "latitude                     -0.144917  \n",
                            "housing_median_age            0.106758  \n",
                            "total_rooms                   0.130991  \n",
                            "total_bedrooms                0.045783  \n",
                            "population                   -0.027850  \n",
                            "households                    0.061031  \n",
                            "median_income                 0.691871  \n",
                            "median_house_value            1.000000  "
                        ]
                    },
                    "execution_count": 14,
                    "metadata": {
                        "tags": []
                    },
                    "output_type": "execute_result"
                }
            ],
            "source": [
                "# 相関係数の算出\n",
                "df.corr()"
            ]
        },
        {
            "cell_type": "markdown",
            "metadata": {
                "colab_type": "text",
                "id": "NliEdJHzvpom"
            },
            "source": [
                "## 並び替え\n",
                "\n",
                "昇順 (ascending) や降順 (descending) にある列を対象として `sort_values()` を用いて並び替えを行えます。\n",
                "なお、関数を実行した際に、`df` のデータに対して並べ替えした結果が上書きされるわけではないため、別の変数を用意します。"
            ]
        },
        {
            "cell_type": "code",
            "execution_count": 15,
            "metadata": {
                "colab": {},
                "colab_type": "code",
                "id": "efmrXOKKwVmf"
            },
            "outputs": [],
            "source": [
                "# total_rooms の列を基準に昇順に並び替え\n",
                "df_as = df.sort_values(by='total_rooms')"
            ]
        },
        {
            "cell_type": "code",
            "execution_count": 16,
            "metadata": {
                "colab": {
                    "base_uri": "https://localhost:8080/",
                    "height": 200
                },
                "colab_type": "code",
                "id": "4-NZFmT3wVjx",
                "outputId": "bb85fa16-9260-41c9-f9f0-57d9190c29ea"
            },
            "outputs": [
                {
                    "data": {
                        "text/html": [
                            "<div>\n",
                            "<style scoped>\n",
                            "    .dataframe tbody tr th:only-of-type {\n",
                            "        vertical-align: middle;\n",
                            "    }\n",
                            "\n",
                            "    .dataframe tbody tr th {\n",
                            "        vertical-align: top;\n",
                            "    }\n",
                            "\n",
                            "    .dataframe thead th {\n",
                            "        text-align: right;\n",
                            "    }\n",
                            "</style>\n",
                            "<table border=\"1\" class=\"dataframe\">\n",
                            "  <thead>\n",
                            "    <tr style=\"text-align: right;\">\n",
                            "      <th></th>\n",
                            "      <th>longitude</th>\n",
                            "      <th>latitude</th>\n",
                            "      <th>housing_median_age</th>\n",
                            "      <th>total_rooms</th>\n",
                            "      <th>total_bedrooms</th>\n",
                            "      <th>population</th>\n",
                            "      <th>households</th>\n",
                            "      <th>median_income</th>\n",
                            "      <th>median_house_value</th>\n",
                            "    </tr>\n",
                            "  </thead>\n",
                            "  <tbody>\n",
                            "    <tr>\n",
                            "      <th>2990</th>\n",
                            "      <td>-117.79</td>\n",
                            "      <td>35.21</td>\n",
                            "      <td>4.0</td>\n",
                            "      <td>2.0</td>\n",
                            "      <td>2.0</td>\n",
                            "      <td>6.0</td>\n",
                            "      <td>2.0</td>\n",
                            "      <td>2.3750</td>\n",
                            "      <td>137500.0</td>\n",
                            "    </tr>\n",
                            "    <tr>\n",
                            "      <th>16309</th>\n",
                            "      <td>-122.50</td>\n",
                            "      <td>37.79</td>\n",
                            "      <td>52.0</td>\n",
                            "      <td>8.0</td>\n",
                            "      <td>1.0</td>\n",
                            "      <td>13.0</td>\n",
                            "      <td>1.0</td>\n",
                            "      <td>15.0001</td>\n",
                            "      <td>500001.0</td>\n",
                            "    </tr>\n",
                            "    <tr>\n",
                            "      <th>8188</th>\n",
                            "      <td>-118.44</td>\n",
                            "      <td>34.28</td>\n",
                            "      <td>46.0</td>\n",
                            "      <td>11.0</td>\n",
                            "      <td>11.0</td>\n",
                            "      <td>24.0</td>\n",
                            "      <td>13.0</td>\n",
                            "      <td>2.8750</td>\n",
                            "      <td>162500.0</td>\n",
                            "    </tr>\n",
                            "    <tr>\n",
                            "      <th>15369</th>\n",
                            "      <td>-122.29</td>\n",
                            "      <td>37.81</td>\n",
                            "      <td>46.0</td>\n",
                            "      <td>12.0</td>\n",
                            "      <td>4.0</td>\n",
                            "      <td>18.0</td>\n",
                            "      <td>7.0</td>\n",
                            "      <td>0.4999</td>\n",
                            "      <td>67500.0</td>\n",
                            "    </tr>\n",
                            "    <tr>\n",
                            "      <th>15656</th>\n",
                            "      <td>-122.37</td>\n",
                            "      <td>37.60</td>\n",
                            "      <td>26.0</td>\n",
                            "      <td>15.0</td>\n",
                            "      <td>3.0</td>\n",
                            "      <td>11.0</td>\n",
                            "      <td>3.0</td>\n",
                            "      <td>5.0480</td>\n",
                            "      <td>350000.0</td>\n",
                            "    </tr>\n",
                            "  </tbody>\n",
                            "</table>\n",
                            "</div>"
                        ],
                        "text/plain": [
                            "       longitude  latitude  housing_median_age  total_rooms  total_bedrooms  \\\n",
                            "2990     -117.79     35.21                 4.0          2.0             2.0   \n",
                            "16309    -122.50     37.79                52.0          8.0             1.0   \n",
                            "8188     -118.44     34.28                46.0         11.0            11.0   \n",
                            "15369    -122.29     37.81                46.0         12.0             4.0   \n",
                            "15656    -122.37     37.60                26.0         15.0             3.0   \n",
                            "\n",
                            "       population  households  median_income  median_house_value  \n",
                            "2990          6.0         2.0         2.3750            137500.0  \n",
                            "16309        13.0         1.0        15.0001            500001.0  \n",
                            "8188         24.0        13.0         2.8750            162500.0  \n",
                            "15369        18.0         7.0         0.4999             67500.0  \n",
                            "15656        11.0         3.0         5.0480            350000.0  "
                        ]
                    },
                    "execution_count": 16,
                    "metadata": {
                        "tags": []
                    },
                    "output_type": "execute_result"
                }
            ],
            "source": [
                "df_as.head()"
            ]
        },
        {
            "cell_type": "markdown",
            "metadata": {
                "colab_type": "text",
                "id": "JvBXPheQxExY"
            },
            "source": [
                "この結果から分かる通り、デフォルトの設定では、小さいものから順番に並べられた昇順となっています。\n",
                "降順に並べ替える場合は、関数の引数を確認（Google Colablatoryの場合は tab を 2 回押す）するとわかりますが、`ascending=True` とデフォルトの設定となっているところを `ascending=False` のように変更します。"
            ]
        },
        {
            "cell_type": "code",
            "execution_count": 17,
            "metadata": {
                "colab": {},
                "colab_type": "code",
                "id": "H5hcz3PowVgc"
            },
            "outputs": [],
            "source": [
                "# total_roomsの列を基準に降順に並び替え\n",
                "df_de = df.sort_values(by='total_rooms', ascending=False)"
            ]
        },
        {
            "cell_type": "code",
            "execution_count": 18,
            "metadata": {
                "colab": {
                    "base_uri": "https://localhost:8080/",
                    "height": 200
                },
                "colab_type": "code",
                "id": "As4wF8YtwVdL",
                "outputId": "283b576f-77ff-44a1-b979-d52111377d4c"
            },
            "outputs": [
                {
                    "data": {
                        "text/html": [
                            "<div>\n",
                            "<style scoped>\n",
                            "    .dataframe tbody tr th:only-of-type {\n",
                            "        vertical-align: middle;\n",
                            "    }\n",
                            "\n",
                            "    .dataframe tbody tr th {\n",
                            "        vertical-align: top;\n",
                            "    }\n",
                            "\n",
                            "    .dataframe thead th {\n",
                            "        text-align: right;\n",
                            "    }\n",
                            "</style>\n",
                            "<table border=\"1\" class=\"dataframe\">\n",
                            "  <thead>\n",
                            "    <tr style=\"text-align: right;\">\n",
                            "      <th></th>\n",
                            "      <th>longitude</th>\n",
                            "      <th>latitude</th>\n",
                            "      <th>housing_median_age</th>\n",
                            "      <th>total_rooms</th>\n",
                            "      <th>total_bedrooms</th>\n",
                            "      <th>population</th>\n",
                            "      <th>households</th>\n",
                            "      <th>median_income</th>\n",
                            "      <th>median_house_value</th>\n",
                            "    </tr>\n",
                            "  </thead>\n",
                            "  <tbody>\n",
                            "    <tr>\n",
                            "      <th>2871</th>\n",
                            "      <td>-117.74</td>\n",
                            "      <td>33.89</td>\n",
                            "      <td>4.0</td>\n",
                            "      <td>37937.0</td>\n",
                            "      <td>5471.0</td>\n",
                            "      <td>16122.0</td>\n",
                            "      <td>5189.0</td>\n",
                            "      <td>7.4947</td>\n",
                            "      <td>366300.0</td>\n",
                            "    </tr>\n",
                            "    <tr>\n",
                            "      <th>12772</th>\n",
                            "      <td>-121.79</td>\n",
                            "      <td>36.64</td>\n",
                            "      <td>11.0</td>\n",
                            "      <td>32627.0</td>\n",
                            "      <td>6445.0</td>\n",
                            "      <td>28566.0</td>\n",
                            "      <td>6082.0</td>\n",
                            "      <td>2.3087</td>\n",
                            "      <td>118800.0</td>\n",
                            "    </tr>\n",
                            "    <tr>\n",
                            "      <th>2969</th>\n",
                            "      <td>-117.78</td>\n",
                            "      <td>34.03</td>\n",
                            "      <td>8.0</td>\n",
                            "      <td>32054.0</td>\n",
                            "      <td>5290.0</td>\n",
                            "      <td>15507.0</td>\n",
                            "      <td>5050.0</td>\n",
                            "      <td>6.0191</td>\n",
                            "      <td>253900.0</td>\n",
                            "    </tr>\n",
                            "    <tr>\n",
                            "      <th>8881</th>\n",
                            "      <td>-118.78</td>\n",
                            "      <td>34.16</td>\n",
                            "      <td>9.0</td>\n",
                            "      <td>30405.0</td>\n",
                            "      <td>4093.0</td>\n",
                            "      <td>12873.0</td>\n",
                            "      <td>3931.0</td>\n",
                            "      <td>8.0137</td>\n",
                            "      <td>399200.0</td>\n",
                            "    </tr>\n",
                            "    <tr>\n",
                            "      <th>1116</th>\n",
                            "      <td>-117.12</td>\n",
                            "      <td>33.52</td>\n",
                            "      <td>4.0</td>\n",
                            "      <td>30401.0</td>\n",
                            "      <td>4957.0</td>\n",
                            "      <td>13251.0</td>\n",
                            "      <td>4339.0</td>\n",
                            "      <td>4.5841</td>\n",
                            "      <td>212300.0</td>\n",
                            "    </tr>\n",
                            "  </tbody>\n",
                            "</table>\n",
                            "</div>"
                        ],
                        "text/plain": [
                            "       longitude  latitude  housing_median_age  total_rooms  total_bedrooms  \\\n",
                            "2871     -117.74     33.89                 4.0      37937.0          5471.0   \n",
                            "12772    -121.79     36.64                11.0      32627.0          6445.0   \n",
                            "2969     -117.78     34.03                 8.0      32054.0          5290.0   \n",
                            "8881     -118.78     34.16                 9.0      30405.0          4093.0   \n",
                            "1116     -117.12     33.52                 4.0      30401.0          4957.0   \n",
                            "\n",
                            "       population  households  median_income  median_house_value  \n",
                            "2871      16122.0      5189.0         7.4947            366300.0  \n",
                            "12772     28566.0      6082.0         2.3087            118800.0  \n",
                            "2969      15507.0      5050.0         6.0191            253900.0  \n",
                            "8881      12873.0      3931.0         8.0137            399200.0  \n",
                            "1116      13251.0      4339.0         4.5841            212300.0  "
                        ]
                    },
                    "execution_count": 18,
                    "metadata": {
                        "tags": []
                    },
                    "output_type": "execute_result"
                }
            ],
            "source": [
                "df_de.head()"
            ]
        },
        {
            "cell_type": "markdown",
            "metadata": {
                "colab_type": "text",
                "id": "33kVroZ235bY"
            },
            "source": [
                "## データの抽出\n",
                "\n",
                "必要な要素や行、列を抽出することも簡単にできます。\n",
                "[scikit-learn 入門](https://tutorials.chainer.org/ja/src/09_Introduction_to_Scikit-learn_ja.html)の章で説明した通り、入力変数 `x` と目標値 `t` を用意する必要があります。このようなとき、入力変数に対応する列と目標値に対応する列だけをそれぞれ抽出するということができます。\n",
                "\n",
                "今回は右端の列である `median_house_value` が目標値でそれ以外が入力変数だとした場合に、それぞれのデータの抽出を行います。\n",
                "列や行の選択を行う方法にはいくつかありますが、その中でもよく使われる `iloc` を今回は紹介します。"
            ]
        },
        {
            "cell_type": "code",
            "execution_count": 19,
            "metadata": {
                "colab": {
                    "base_uri": "https://localhost:8080/",
                    "height": 139
                },
                "colab_type": "code",
                "id": "e7WrVEj2zAhh",
                "outputId": "c44c0998-bcfe-49c9-b03b-cd3ceba9b7d7"
            },
            "outputs": [
                {
                    "data": {
                        "text/html": [
                            "<div>\n",
                            "<style scoped>\n",
                            "    .dataframe tbody tr th:only-of-type {\n",
                            "        vertical-align: middle;\n",
                            "    }\n",
                            "\n",
                            "    .dataframe tbody tr th {\n",
                            "        vertical-align: top;\n",
                            "    }\n",
                            "\n",
                            "    .dataframe thead th {\n",
                            "        text-align: right;\n",
                            "    }\n",
                            "</style>\n",
                            "<table border=\"1\" class=\"dataframe\">\n",
                            "  <thead>\n",
                            "    <tr style=\"text-align: right;\">\n",
                            "      <th></th>\n",
                            "      <th>longitude</th>\n",
                            "      <th>latitude</th>\n",
                            "      <th>housing_median_age</th>\n",
                            "      <th>total_rooms</th>\n",
                            "      <th>total_bedrooms</th>\n",
                            "      <th>population</th>\n",
                            "      <th>households</th>\n",
                            "      <th>median_income</th>\n",
                            "      <th>median_house_value</th>\n",
                            "    </tr>\n",
                            "  </thead>\n",
                            "  <tbody>\n",
                            "    <tr>\n",
                            "      <th>0</th>\n",
                            "      <td>-114.31</td>\n",
                            "      <td>34.19</td>\n",
                            "      <td>15.0</td>\n",
                            "      <td>5612.0</td>\n",
                            "      <td>1283.0</td>\n",
                            "      <td>1015.0</td>\n",
                            "      <td>472.0</td>\n",
                            "      <td>1.4936</td>\n",
                            "      <td>66900.0</td>\n",
                            "    </tr>\n",
                            "    <tr>\n",
                            "      <th>1</th>\n",
                            "      <td>-114.47</td>\n",
                            "      <td>34.40</td>\n",
                            "      <td>19.0</td>\n",
                            "      <td>7650.0</td>\n",
                            "      <td>1901.0</td>\n",
                            "      <td>1129.0</td>\n",
                            "      <td>463.0</td>\n",
                            "      <td>1.8200</td>\n",
                            "      <td>80100.0</td>\n",
                            "    </tr>\n",
                            "    <tr>\n",
                            "      <th>2</th>\n",
                            "      <td>-114.56</td>\n",
                            "      <td>33.69</td>\n",
                            "      <td>17.0</td>\n",
                            "      <td>720.0</td>\n",
                            "      <td>174.0</td>\n",
                            "      <td>333.0</td>\n",
                            "      <td>117.0</td>\n",
                            "      <td>1.6509</td>\n",
                            "      <td>85700.0</td>\n",
                            "    </tr>\n",
                            "  </tbody>\n",
                            "</table>\n",
                            "</div>"
                        ],
                        "text/plain": [
                            "   longitude  latitude  housing_median_age  total_rooms  total_bedrooms  \\\n",
                            "0    -114.31     34.19                15.0       5612.0          1283.0   \n",
                            "1    -114.47     34.40                19.0       7650.0          1901.0   \n",
                            "2    -114.56     33.69                17.0        720.0           174.0   \n",
                            "\n",
                            "   population  households  median_income  median_house_value  \n",
                            "0      1015.0       472.0         1.4936             66900.0  \n",
                            "1      1129.0       463.0         1.8200             80100.0  \n",
                            "2       333.0       117.0         1.6509             85700.0  "
                        ]
                    },
                    "execution_count": 19,
                    "metadata": {
                        "tags": []
                    },
                    "output_type": "execute_result"
                }
            ],
            "source": [
                "# データの確認\n",
                "df.head(3)"
            ]
        },
        {
            "cell_type": "code",
            "execution_count": 20,
            "metadata": {
                "colab": {
                    "base_uri": "https://localhost:8080/",
                    "height": 35
                },
                "colab_type": "code",
                "id": "UFTSn1GEzF77",
                "outputId": "ea04ca7f-5a1e-4846-8776-2bb3f91af285"
            },
            "outputs": [
                {
                    "data": {
                        "text/plain": [
                            "-114.31"
                        ]
                    },
                    "execution_count": 20,
                    "metadata": {
                        "tags": []
                    },
                    "output_type": "execute_result"
                }
            ],
            "source": [
                "# df.iloc[行, 列]\n",
                "# 0番目のlongitude\n",
                "df.iloc[0, 0]"
            ]
        },
        {
            "cell_type": "code",
            "execution_count": 21,
            "metadata": {
                "colab": {
                    "base_uri": "https://localhost:8080/",
                    "height": 35
                },
                "colab_type": "code",
                "id": "2U1AiMzizJ0U",
                "outputId": "dc6094e3-e4a4-4534-f467-2e71836d691d"
            },
            "outputs": [
                {
                    "data": {
                        "text/plain": [
                            "34.4"
                        ]
                    },
                    "execution_count": 21,
                    "metadata": {
                        "tags": []
                    },
                    "output_type": "execute_result"
                }
            ],
            "source": [
                "# 1番目のlatitude\n",
                "df.iloc[1, 1]"
            ]
        },
        {
            "cell_type": "markdown",
            "metadata": {
                "colab_type": "text",
                "id": "ZPpt5xaHzacL"
            },
            "source": [
                "`iloc` はリストのスライス機能と同じであり、複数行や複数列は `:` をうまく使いましょう。\n",
                "また、`-1` は最後の要素を意味するため、これもうまく使いましょう。"
            ]
        },
        {
            "cell_type": "code",
            "execution_count": 22,
            "metadata": {
                "colab": {},
                "colab_type": "code",
                "id": "HU4q_YwrzMuU"
            },
            "outputs": [],
            "source": [
                "# すべて (:) の行で、最後 (-1) の列\n",
                "t = df.iloc[:, -1]"
            ]
        },
        {
            "cell_type": "code",
            "execution_count": 23,
            "metadata": {
                "colab": {
                    "base_uri": "https://localhost:8080/",
                    "height": 88
                },
                "colab_type": "code",
                "id": "NKR5jcDp0L2B",
                "outputId": "c47f3575-f3d9-4ed2-cb99-2cd7fe9d123f"
            },
            "outputs": [
                {
                    "data": {
                        "text/plain": [
                            "0    66900.0\n",
                            "1    80100.0\n",
                            "2    85700.0\n",
                            "Name: median_house_value, dtype: float64"
                        ]
                    },
                    "execution_count": 23,
                    "metadata": {
                        "tags": []
                    },
                    "output_type": "execute_result"
                }
            ],
            "source": [
                "# 先頭3件の表示\n",
                "t.head(3)"
            ]
        },
        {
            "cell_type": "code",
            "execution_count": 24,
            "metadata": {
                "colab": {
                    "base_uri": "https://localhost:8080/",
                    "height": 35
                },
                "colab_type": "code",
                "id": "9tsxGUWo4GzU",
                "outputId": "3f5d4e7b-e61c-4b31-c0c3-eb5fa57f50be"
            },
            "outputs": [
                {
                    "data": {
                        "text/plain": [
                            "pandas.core.series.Series"
                        ]
                    },
                    "execution_count": 24,
                    "metadata": {
                        "tags": []
                    },
                    "output_type": "execute_result"
                }
            ],
            "source": [
                "# 型の確認\n",
                "type(t)"
            ]
        },
        {
            "cell_type": "markdown",
            "metadata": {
                "colab_type": "text",
                "id": "7TzrpxIL4F-D"
            },
            "source": [
                "1列だけ抽出した際には、`pandas.Series` になります。\n",
                "`pandas.DataFrame` のようにテーブルが綺麗に表示されなくなりますが、平均の算出などは同様に行うことができます。"
            ]
        },
        {
            "cell_type": "code",
            "execution_count": 25,
            "metadata": {
                "colab": {},
                "colab_type": "code",
                "id": "0jN1f_720Q15"
            },
            "outputs": [],
            "source": [
                "# すべて (:) の行で、最初 (0) から最後 (-1) の列のひとつ手前まで\n",
                "x = df.iloc[:, 0:-1]"
            ]
        },
        {
            "cell_type": "markdown",
            "metadata": {
                "colab_type": "text",
                "id": "aiH3wkgD0Z08"
            },
            "source": [
                "最初の 0 は省略できるため、一般的に以下のように書きます。"
            ]
        },
        {
            "cell_type": "code",
            "execution_count": 26,
            "metadata": {
                "colab": {},
                "colab_type": "code",
                "id": "9M3-hDef0RAc"
            },
            "outputs": [],
            "source": [
                "# すべて (:) の行で、最初 (省略) から最後 (-1) の列のひとつ手前まで\n",
                "x = df.iloc[:, :-1]"
            ]
        },
        {
            "cell_type": "code",
            "execution_count": 27,
            "metadata": {
                "colab": {
                    "base_uri": "https://localhost:8080/",
                    "height": 139
                },
                "colab_type": "code",
                "id": "yLWcPbBs0l16",
                "outputId": "0ab8e02c-7579-49dc-f8c8-948a66e0023c"
            },
            "outputs": [
                {
                    "data": {
                        "text/html": [
                            "<div>\n",
                            "<style scoped>\n",
                            "    .dataframe tbody tr th:only-of-type {\n",
                            "        vertical-align: middle;\n",
                            "    }\n",
                            "\n",
                            "    .dataframe tbody tr th {\n",
                            "        vertical-align: top;\n",
                            "    }\n",
                            "\n",
                            "    .dataframe thead th {\n",
                            "        text-align: right;\n",
                            "    }\n",
                            "</style>\n",
                            "<table border=\"1\" class=\"dataframe\">\n",
                            "  <thead>\n",
                            "    <tr style=\"text-align: right;\">\n",
                            "      <th></th>\n",
                            "      <th>longitude</th>\n",
                            "      <th>latitude</th>\n",
                            "      <th>housing_median_age</th>\n",
                            "      <th>total_rooms</th>\n",
                            "      <th>total_bedrooms</th>\n",
                            "      <th>population</th>\n",
                            "      <th>households</th>\n",
                            "      <th>median_income</th>\n",
                            "    </tr>\n",
                            "  </thead>\n",
                            "  <tbody>\n",
                            "    <tr>\n",
                            "      <th>0</th>\n",
                            "      <td>-114.31</td>\n",
                            "      <td>34.19</td>\n",
                            "      <td>15.0</td>\n",
                            "      <td>5612.0</td>\n",
                            "      <td>1283.0</td>\n",
                            "      <td>1015.0</td>\n",
                            "      <td>472.0</td>\n",
                            "      <td>1.4936</td>\n",
                            "    </tr>\n",
                            "    <tr>\n",
                            "      <th>1</th>\n",
                            "      <td>-114.47</td>\n",
                            "      <td>34.40</td>\n",
                            "      <td>19.0</td>\n",
                            "      <td>7650.0</td>\n",
                            "      <td>1901.0</td>\n",
                            "      <td>1129.0</td>\n",
                            "      <td>463.0</td>\n",
                            "      <td>1.8200</td>\n",
                            "    </tr>\n",
                            "    <tr>\n",
                            "      <th>2</th>\n",
                            "      <td>-114.56</td>\n",
                            "      <td>33.69</td>\n",
                            "      <td>17.0</td>\n",
                            "      <td>720.0</td>\n",
                            "      <td>174.0</td>\n",
                            "      <td>333.0</td>\n",
                            "      <td>117.0</td>\n",
                            "      <td>1.6509</td>\n",
                            "    </tr>\n",
                            "  </tbody>\n",
                            "</table>\n",
                            "</div>"
                        ],
                        "text/plain": [
                            "   longitude  latitude  housing_median_age  total_rooms  total_bedrooms  \\\n",
                            "0    -114.31     34.19                15.0       5612.0          1283.0   \n",
                            "1    -114.47     34.40                19.0       7650.0          1901.0   \n",
                            "2    -114.56     33.69                17.0        720.0           174.0   \n",
                            "\n",
                            "   population  households  median_income  \n",
                            "0      1015.0       472.0         1.4936  \n",
                            "1      1129.0       463.0         1.8200  \n",
                            "2       333.0       117.0         1.6509  "
                        ]
                    },
                    "execution_count": 27,
                    "metadata": {
                        "tags": []
                    },
                    "output_type": "execute_result"
                }
            ],
            "source": [
                "# 先頭の3件の表示\n",
                "x.head(3)"
            ]
        },
        {
            "cell_type": "code",
            "execution_count": 28,
            "metadata": {
                "colab": {
                    "base_uri": "https://localhost:8080/",
                    "height": 35
                },
                "colab_type": "code",
                "id": "r2bo3Yyp4aeN",
                "outputId": "a43559d7-7ed6-4421-8244-2e08170aa216"
            },
            "outputs": [
                {
                    "data": {
                        "text/plain": [
                            "pandas.core.frame.DataFrame"
                        ]
                    },
                    "execution_count": 28,
                    "metadata": {
                        "tags": []
                    },
                    "output_type": "execute_result"
                }
            ],
            "source": [
                "# 型の確認\n",
                "type(x)"
            ]
        },
        {
            "cell_type": "markdown",
            "metadata": {
                "colab_type": "text",
                "id": "zeCTdqHL7q5i"
            },
            "source": [
                "## 条件を指定した抽出\n",
                "\n",
                "次に条件を指定したデータの抽出を紹介します。\n",
                "\n",
                "対象とする列の名前を `col` とすると、`df[col] > 300` や `df[col] == 10` のように比較演算子を使って条件を指定し、比較演算子の結果を使って指定したデータを抽出します。"
            ]
        },
        {
            "cell_type": "code",
            "execution_count": 29,
            "metadata": {
                "colab": {},
                "colab_type": "code",
                "id": "T3E7hx3b6fZu"
            },
            "outputs": [],
            "source": [
                "# 対象とする列名が長いため、あらかじめ代入\n",
                "col = 'median_house_value'"
            ]
        },
        {
            "cell_type": "code",
            "execution_count": 30,
            "metadata": {
                "colab": {
                    "base_uri": "https://localhost:8080/",
                    "height": 124
                },
                "colab_type": "code",
                "id": "jv-19Jj_-K7v",
                "outputId": "27a7f95c-bc15-4d07-f439-3207d75ee109"
            },
            "outputs": [
                {
                    "data": {
                        "text/plain": [
                            "0    66900.0\n",
                            "1    80100.0\n",
                            "2    85700.0\n",
                            "3    73400.0\n",
                            "4    65500.0\n",
                            "Name: median_house_value, dtype: float64"
                        ]
                    },
                    "execution_count": 30,
                    "metadata": {
                        "tags": []
                    },
                    "output_type": "execute_result"
                }
            ],
            "source": [
                "# データの確認\n",
                "df[col].head()"
            ]
        },
        {
            "cell_type": "code",
            "execution_count": 31,
            "metadata": {
                "colab": {},
                "colab_type": "code",
                "id": "RhJW40Cz6VZj"
            },
            "outputs": [],
            "source": [
                "index = df[col] > 70000"
            ]
        },
        {
            "cell_type": "code",
            "execution_count": 32,
            "metadata": {
                "colab": {
                    "base_uri": "https://localhost:8080/",
                    "height": 124
                },
                "colab_type": "code",
                "id": "srYmImEs6VVe",
                "outputId": "8e616a67-fe3a-4bec-fc47-b0f118f24752"
            },
            "outputs": [
                {
                    "data": {
                        "text/plain": [
                            "0    False\n",
                            "1     True\n",
                            "2     True\n",
                            "3     True\n",
                            "4    False\n",
                            "Name: median_house_value, dtype: bool"
                        ]
                    },
                    "execution_count": 32,
                    "metadata": {
                        "tags": []
                    },
                    "output_type": "execute_result"
                }
            ],
            "source": [
                "index.head()"
            ]
        },
        {
            "cell_type": "markdown",
            "metadata": {
                "colab_type": "text",
                "id": "OQ5EFadC6nfc"
            },
            "source": [
                "この結果からわかる通り、比較演算子を実行したあとに得られる結果は各行に対する True / False です。\n",
                "この結果が True の行のみを抽出したい場合は `df[index]` のように記述します。"
            ]
        },
        {
            "cell_type": "code",
            "execution_count": 33,
            "metadata": {
                "colab": {
                    "base_uri": "https://localhost:8080/",
                    "height": 200
                },
                "colab_type": "code",
                "id": "ET6N9DZi6VSV",
                "outputId": "70a034b4-0c14-4f93-d605-b006c5523ed7"
            },
            "outputs": [
                {
                    "data": {
                        "text/html": [
                            "<div>\n",
                            "<style scoped>\n",
                            "    .dataframe tbody tr th:only-of-type {\n",
                            "        vertical-align: middle;\n",
                            "    }\n",
                            "\n",
                            "    .dataframe tbody tr th {\n",
                            "        vertical-align: top;\n",
                            "    }\n",
                            "\n",
                            "    .dataframe thead th {\n",
                            "        text-align: right;\n",
                            "    }\n",
                            "</style>\n",
                            "<table border=\"1\" class=\"dataframe\">\n",
                            "  <thead>\n",
                            "    <tr style=\"text-align: right;\">\n",
                            "      <th></th>\n",
                            "      <th>longitude</th>\n",
                            "      <th>latitude</th>\n",
                            "      <th>housing_median_age</th>\n",
                            "      <th>total_rooms</th>\n",
                            "      <th>total_bedrooms</th>\n",
                            "      <th>population</th>\n",
                            "      <th>households</th>\n",
                            "      <th>median_income</th>\n",
                            "      <th>median_house_value</th>\n",
                            "    </tr>\n",
                            "  </thead>\n",
                            "  <tbody>\n",
                            "    <tr>\n",
                            "      <th>1</th>\n",
                            "      <td>-114.47</td>\n",
                            "      <td>34.40</td>\n",
                            "      <td>19.0</td>\n",
                            "      <td>7650.0</td>\n",
                            "      <td>1901.0</td>\n",
                            "      <td>1129.0</td>\n",
                            "      <td>463.0</td>\n",
                            "      <td>1.8200</td>\n",
                            "      <td>80100.0</td>\n",
                            "    </tr>\n",
                            "    <tr>\n",
                            "      <th>2</th>\n",
                            "      <td>-114.56</td>\n",
                            "      <td>33.69</td>\n",
                            "      <td>17.0</td>\n",
                            "      <td>720.0</td>\n",
                            "      <td>174.0</td>\n",
                            "      <td>333.0</td>\n",
                            "      <td>117.0</td>\n",
                            "      <td>1.6509</td>\n",
                            "      <td>85700.0</td>\n",
                            "    </tr>\n",
                            "    <tr>\n",
                            "      <th>3</th>\n",
                            "      <td>-114.57</td>\n",
                            "      <td>33.64</td>\n",
                            "      <td>14.0</td>\n",
                            "      <td>1501.0</td>\n",
                            "      <td>337.0</td>\n",
                            "      <td>515.0</td>\n",
                            "      <td>226.0</td>\n",
                            "      <td>3.1917</td>\n",
                            "      <td>73400.0</td>\n",
                            "    </tr>\n",
                            "    <tr>\n",
                            "      <th>5</th>\n",
                            "      <td>-114.58</td>\n",
                            "      <td>33.63</td>\n",
                            "      <td>29.0</td>\n",
                            "      <td>1387.0</td>\n",
                            "      <td>236.0</td>\n",
                            "      <td>671.0</td>\n",
                            "      <td>239.0</td>\n",
                            "      <td>3.3438</td>\n",
                            "      <td>74000.0</td>\n",
                            "    </tr>\n",
                            "    <tr>\n",
                            "      <th>6</th>\n",
                            "      <td>-114.58</td>\n",
                            "      <td>33.61</td>\n",
                            "      <td>25.0</td>\n",
                            "      <td>2907.0</td>\n",
                            "      <td>680.0</td>\n",
                            "      <td>1841.0</td>\n",
                            "      <td>633.0</td>\n",
                            "      <td>2.6768</td>\n",
                            "      <td>82400.0</td>\n",
                            "    </tr>\n",
                            "  </tbody>\n",
                            "</table>\n",
                            "</div>"
                        ],
                        "text/plain": [
                            "   longitude  latitude  housing_median_age  total_rooms  total_bedrooms  \\\n",
                            "1    -114.47     34.40                19.0       7650.0          1901.0   \n",
                            "2    -114.56     33.69                17.0        720.0           174.0   \n",
                            "3    -114.57     33.64                14.0       1501.0           337.0   \n",
                            "5    -114.58     33.63                29.0       1387.0           236.0   \n",
                            "6    -114.58     33.61                25.0       2907.0           680.0   \n",
                            "\n",
                            "   population  households  median_income  median_house_value  \n",
                            "1      1129.0       463.0         1.8200             80100.0  \n",
                            "2       333.0       117.0         1.6509             85700.0  \n",
                            "3       515.0       226.0         3.1917             73400.0  \n",
                            "5       671.0       239.0         3.3438             74000.0  \n",
                            "6      1841.0       633.0         2.6768             82400.0  "
                        ]
                    },
                    "execution_count": 33,
                    "metadata": {
                        "tags": []
                    },
                    "output_type": "execute_result"
                }
            ],
            "source": [
                "# df[index]\n",
                "df[index].head()"
            ]
        },
        {
            "cell_type": "markdown",
            "metadata": {
                "colab_type": "text",
                "id": "sRw6qcbi7U8t"
            },
            "source": [
                "この処理のように、`index` に True / False を入れて、その True の部分のみを抽出する処理は NumPy や Pandas でよく用いられます。\n",
                "\n",
                "複数条件の場合は `()` が必要となります。\n",
                "論理和は `|`、論理積は `&` を用います。"
            ]
        },
        {
            "cell_type": "code",
            "execution_count": 34,
            "metadata": {
                "colab": {
                    "base_uri": "https://localhost:8080/",
                    "height": 124
                },
                "colab_type": "code",
                "id": "QJR5esI59J0j",
                "outputId": "418dcf41-3a7e-420e-c9b2-5e1fd478e9c4"
            },
            "outputs": [
                {
                    "data": {
                        "text/plain": [
                            "0    66900.0\n",
                            "1    80100.0\n",
                            "2    85700.0\n",
                            "3    73400.0\n",
                            "4    65500.0\n",
                            "Name: median_house_value, dtype: float64"
                        ]
                    },
                    "execution_count": 34,
                    "metadata": {
                        "tags": []
                    },
                    "output_type": "execute_result"
                }
            ],
            "source": [
                "df[col].head()"
            ]
        },
        {
            "cell_type": "code",
            "execution_count": 35,
            "metadata": {
                "colab": {},
                "colab_type": "code",
                "id": "tYad4IqH8-TU"
            },
            "outputs": [],
            "source": [
                "# 70000よりも小さい（もしくは）80000よりも大きい\n",
                "index = (df[col] < 70000) | (df[col] > 80000)"
            ]
        },
        {
            "cell_type": "code",
            "execution_count": 36,
            "metadata": {
                "colab": {
                    "base_uri": "https://localhost:8080/",
                    "height": 124
                },
                "colab_type": "code",
                "id": "0QLUPiuo9IDM",
                "outputId": "19b72d99-ca79-4c74-c05a-e827f930ec88"
            },
            "outputs": [
                {
                    "data": {
                        "text/plain": [
                            "0     True\n",
                            "1     True\n",
                            "2     True\n",
                            "3    False\n",
                            "4     True\n",
                            "Name: median_house_value, dtype: bool"
                        ]
                    },
                    "execution_count": 36,
                    "metadata": {
                        "tags": []
                    },
                    "output_type": "execute_result"
                }
            ],
            "source": [
                "index.head()"
            ]
        },
        {
            "cell_type": "code",
            "execution_count": 37,
            "metadata": {
                "colab": {
                    "base_uri": "https://localhost:8080/",
                    "height": 200
                },
                "colab_type": "code",
                "id": "spv0H36u9mjf",
                "outputId": "aa5197a5-9356-429b-d687-f8f4fff0923c"
            },
            "outputs": [
                {
                    "data": {
                        "text/html": [
                            "<div>\n",
                            "<style scoped>\n",
                            "    .dataframe tbody tr th:only-of-type {\n",
                            "        vertical-align: middle;\n",
                            "    }\n",
                            "\n",
                            "    .dataframe tbody tr th {\n",
                            "        vertical-align: top;\n",
                            "    }\n",
                            "\n",
                            "    .dataframe thead th {\n",
                            "        text-align: right;\n",
                            "    }\n",
                            "</style>\n",
                            "<table border=\"1\" class=\"dataframe\">\n",
                            "  <thead>\n",
                            "    <tr style=\"text-align: right;\">\n",
                            "      <th></th>\n",
                            "      <th>longitude</th>\n",
                            "      <th>latitude</th>\n",
                            "      <th>housing_median_age</th>\n",
                            "      <th>total_rooms</th>\n",
                            "      <th>total_bedrooms</th>\n",
                            "      <th>population</th>\n",
                            "      <th>households</th>\n",
                            "      <th>median_income</th>\n",
                            "      <th>median_house_value</th>\n",
                            "    </tr>\n",
                            "  </thead>\n",
                            "  <tbody>\n",
                            "    <tr>\n",
                            "      <th>0</th>\n",
                            "      <td>-114.31</td>\n",
                            "      <td>34.19</td>\n",
                            "      <td>15.0</td>\n",
                            "      <td>5612.0</td>\n",
                            "      <td>1283.0</td>\n",
                            "      <td>1015.0</td>\n",
                            "      <td>472.0</td>\n",
                            "      <td>1.4936</td>\n",
                            "      <td>66900.0</td>\n",
                            "    </tr>\n",
                            "    <tr>\n",
                            "      <th>1</th>\n",
                            "      <td>-114.47</td>\n",
                            "      <td>34.40</td>\n",
                            "      <td>19.0</td>\n",
                            "      <td>7650.0</td>\n",
                            "      <td>1901.0</td>\n",
                            "      <td>1129.0</td>\n",
                            "      <td>463.0</td>\n",
                            "      <td>1.8200</td>\n",
                            "      <td>80100.0</td>\n",
                            "    </tr>\n",
                            "    <tr>\n",
                            "      <th>2</th>\n",
                            "      <td>-114.56</td>\n",
                            "      <td>33.69</td>\n",
                            "      <td>17.0</td>\n",
                            "      <td>720.0</td>\n",
                            "      <td>174.0</td>\n",
                            "      <td>333.0</td>\n",
                            "      <td>117.0</td>\n",
                            "      <td>1.6509</td>\n",
                            "      <td>85700.0</td>\n",
                            "    </tr>\n",
                            "    <tr>\n",
                            "      <th>4</th>\n",
                            "      <td>-114.57</td>\n",
                            "      <td>33.57</td>\n",
                            "      <td>20.0</td>\n",
                            "      <td>1454.0</td>\n",
                            "      <td>326.0</td>\n",
                            "      <td>624.0</td>\n",
                            "      <td>262.0</td>\n",
                            "      <td>1.9250</td>\n",
                            "      <td>65500.0</td>\n",
                            "    </tr>\n",
                            "    <tr>\n",
                            "      <th>6</th>\n",
                            "      <td>-114.58</td>\n",
                            "      <td>33.61</td>\n",
                            "      <td>25.0</td>\n",
                            "      <td>2907.0</td>\n",
                            "      <td>680.0</td>\n",
                            "      <td>1841.0</td>\n",
                            "      <td>633.0</td>\n",
                            "      <td>2.6768</td>\n",
                            "      <td>82400.0</td>\n",
                            "    </tr>\n",
                            "  </tbody>\n",
                            "</table>\n",
                            "</div>"
                        ],
                        "text/plain": [
                            "   longitude  latitude  housing_median_age  total_rooms  total_bedrooms  \\\n",
                            "0    -114.31     34.19                15.0       5612.0          1283.0   \n",
                            "1    -114.47     34.40                19.0       7650.0          1901.0   \n",
                            "2    -114.56     33.69                17.0        720.0           174.0   \n",
                            "4    -114.57     33.57                20.0       1454.0           326.0   \n",
                            "6    -114.58     33.61                25.0       2907.0           680.0   \n",
                            "\n",
                            "   population  households  median_income  median_house_value  \n",
                            "0      1015.0       472.0         1.4936             66900.0  \n",
                            "1      1129.0       463.0         1.8200             80100.0  \n",
                            "2       333.0       117.0         1.6509             85700.0  \n",
                            "4       624.0       262.0         1.9250             65500.0  \n",
                            "6      1841.0       633.0         2.6768             82400.0  "
                        ]
                    },
                    "execution_count": 37,
                    "metadata": {
                        "tags": []
                    },
                    "output_type": "execute_result"
                }
            ],
            "source": [
                "df[index].head()"
            ]
        },
        {
            "cell_type": "code",
            "execution_count": 38,
            "metadata": {
                "colab": {},
                "colab_type": "code",
                "id": "1El4-CLU7UPA"
            },
            "outputs": [],
            "source": [
                "# 70000より大きく（かつ）80000より小さい\n",
                "index = (df[col] > 70000) & (df[col] < 80000)"
            ]
        },
        {
            "cell_type": "code",
            "execution_count": 39,
            "metadata": {
                "colab": {
                    "base_uri": "https://localhost:8080/",
                    "height": 124
                },
                "colab_type": "code",
                "id": "EDxNGNDp6VOl",
                "outputId": "07199cac-7d17-4b2c-9b85-534704636d09"
            },
            "outputs": [
                {
                    "data": {
                        "text/plain": [
                            "0    False\n",
                            "1    False\n",
                            "2    False\n",
                            "3     True\n",
                            "4    False\n",
                            "Name: median_house_value, dtype: bool"
                        ]
                    },
                    "execution_count": 39,
                    "metadata": {
                        "tags": []
                    },
                    "output_type": "execute_result"
                }
            ],
            "source": [
                "index.head()"
            ]
        },
        {
            "cell_type": "code",
            "execution_count": 40,
            "metadata": {
                "colab": {
                    "base_uri": "https://localhost:8080/",
                    "height": 200
                },
                "colab_type": "code",
                "id": "tD0geZQw9lt5",
                "outputId": "07ce72fb-b71a-472f-b98b-f46f1e010a9d"
            },
            "outputs": [
                {
                    "data": {
                        "text/html": [
                            "<div>\n",
                            "<style scoped>\n",
                            "    .dataframe tbody tr th:only-of-type {\n",
                            "        vertical-align: middle;\n",
                            "    }\n",
                            "\n",
                            "    .dataframe tbody tr th {\n",
                            "        vertical-align: top;\n",
                            "    }\n",
                            "\n",
                            "    .dataframe thead th {\n",
                            "        text-align: right;\n",
                            "    }\n",
                            "</style>\n",
                            "<table border=\"1\" class=\"dataframe\">\n",
                            "  <thead>\n",
                            "    <tr style=\"text-align: right;\">\n",
                            "      <th></th>\n",
                            "      <th>longitude</th>\n",
                            "      <th>latitude</th>\n",
                            "      <th>housing_median_age</th>\n",
                            "      <th>total_rooms</th>\n",
                            "      <th>total_bedrooms</th>\n",
                            "      <th>population</th>\n",
                            "      <th>households</th>\n",
                            "      <th>median_income</th>\n",
                            "      <th>median_house_value</th>\n",
                            "    </tr>\n",
                            "  </thead>\n",
                            "  <tbody>\n",
                            "    <tr>\n",
                            "      <th>3</th>\n",
                            "      <td>-114.57</td>\n",
                            "      <td>33.64</td>\n",
                            "      <td>14.0</td>\n",
                            "      <td>1501.0</td>\n",
                            "      <td>337.0</td>\n",
                            "      <td>515.0</td>\n",
                            "      <td>226.0</td>\n",
                            "      <td>3.1917</td>\n",
                            "      <td>73400.0</td>\n",
                            "    </tr>\n",
                            "    <tr>\n",
                            "      <th>5</th>\n",
                            "      <td>-114.58</td>\n",
                            "      <td>33.63</td>\n",
                            "      <td>29.0</td>\n",
                            "      <td>1387.0</td>\n",
                            "      <td>236.0</td>\n",
                            "      <td>671.0</td>\n",
                            "      <td>239.0</td>\n",
                            "      <td>3.3438</td>\n",
                            "      <td>74000.0</td>\n",
                            "    </tr>\n",
                            "    <tr>\n",
                            "      <th>13</th>\n",
                            "      <td>-114.61</td>\n",
                            "      <td>34.83</td>\n",
                            "      <td>31.0</td>\n",
                            "      <td>2478.0</td>\n",
                            "      <td>464.0</td>\n",
                            "      <td>1346.0</td>\n",
                            "      <td>479.0</td>\n",
                            "      <td>3.2120</td>\n",
                            "      <td>70400.0</td>\n",
                            "    </tr>\n",
                            "    <tr>\n",
                            "      <th>23</th>\n",
                            "      <td>-114.98</td>\n",
                            "      <td>33.82</td>\n",
                            "      <td>15.0</td>\n",
                            "      <td>644.0</td>\n",
                            "      <td>129.0</td>\n",
                            "      <td>137.0</td>\n",
                            "      <td>52.0</td>\n",
                            "      <td>3.2097</td>\n",
                            "      <td>71300.0</td>\n",
                            "    </tr>\n",
                            "    <tr>\n",
                            "      <th>26</th>\n",
                            "      <td>-115.37</td>\n",
                            "      <td>32.82</td>\n",
                            "      <td>30.0</td>\n",
                            "      <td>1602.0</td>\n",
                            "      <td>322.0</td>\n",
                            "      <td>1130.0</td>\n",
                            "      <td>335.0</td>\n",
                            "      <td>3.5735</td>\n",
                            "      <td>71100.0</td>\n",
                            "    </tr>\n",
                            "  </tbody>\n",
                            "</table>\n",
                            "</div>"
                        ],
                        "text/plain": [
                            "    longitude  latitude  housing_median_age  total_rooms  total_bedrooms  \\\n",
                            "3     -114.57     33.64                14.0       1501.0           337.0   \n",
                            "5     -114.58     33.63                29.0       1387.0           236.0   \n",
                            "13    -114.61     34.83                31.0       2478.0           464.0   \n",
                            "23    -114.98     33.82                15.0        644.0           129.0   \n",
                            "26    -115.37     32.82                30.0       1602.0           322.0   \n",
                            "\n",
                            "    population  households  median_income  median_house_value  \n",
                            "3        515.0       226.0         3.1917             73400.0  \n",
                            "5        671.0       239.0         3.3438             74000.0  \n",
                            "13      1346.0       479.0         3.2120             70400.0  \n",
                            "23       137.0        52.0         3.2097             71300.0  \n",
                            "26      1130.0       335.0         3.5735             71100.0  "
                        ]
                    },
                    "execution_count": 40,
                    "metadata": {
                        "tags": []
                    },
                    "output_type": "execute_result"
                }
            ],
            "source": [
                "df[index].head()"
            ]
        },
        {
            "cell_type": "markdown",
            "metadata": {
                "colab_type": "text",
                "id": "fbPB_J8H9ayc"
            },
            "source": [
                "少し複雑な記述に見えてしまいますが、条件の定義から抽出まで1行でまとめて書くこともできます。"
            ]
        },
        {
            "cell_type": "code",
            "execution_count": 41,
            "metadata": {
                "colab": {
                    "base_uri": "https://localhost:8080/",
                    "height": 200
                },
                "colab_type": "code",
                "id": "lNcH1ii_6N2O",
                "outputId": "d5bd3b32-2123-48e3-c889-4ca6eaea9599"
            },
            "outputs": [
                {
                    "data": {
                        "text/html": [
                            "<div>\n",
                            "<style scoped>\n",
                            "    .dataframe tbody tr th:only-of-type {\n",
                            "        vertical-align: middle;\n",
                            "    }\n",
                            "\n",
                            "    .dataframe tbody tr th {\n",
                            "        vertical-align: top;\n",
                            "    }\n",
                            "\n",
                            "    .dataframe thead th {\n",
                            "        text-align: right;\n",
                            "    }\n",
                            "</style>\n",
                            "<table border=\"1\" class=\"dataframe\">\n",
                            "  <thead>\n",
                            "    <tr style=\"text-align: right;\">\n",
                            "      <th></th>\n",
                            "      <th>longitude</th>\n",
                            "      <th>latitude</th>\n",
                            "      <th>housing_median_age</th>\n",
                            "      <th>total_rooms</th>\n",
                            "      <th>total_bedrooms</th>\n",
                            "      <th>population</th>\n",
                            "      <th>households</th>\n",
                            "      <th>median_income</th>\n",
                            "      <th>median_house_value</th>\n",
                            "    </tr>\n",
                            "  </thead>\n",
                            "  <tbody>\n",
                            "    <tr>\n",
                            "      <th>3</th>\n",
                            "      <td>-114.57</td>\n",
                            "      <td>33.64</td>\n",
                            "      <td>14.0</td>\n",
                            "      <td>1501.0</td>\n",
                            "      <td>337.0</td>\n",
                            "      <td>515.0</td>\n",
                            "      <td>226.0</td>\n",
                            "      <td>3.1917</td>\n",
                            "      <td>73400.0</td>\n",
                            "    </tr>\n",
                            "    <tr>\n",
                            "      <th>5</th>\n",
                            "      <td>-114.58</td>\n",
                            "      <td>33.63</td>\n",
                            "      <td>29.0</td>\n",
                            "      <td>1387.0</td>\n",
                            "      <td>236.0</td>\n",
                            "      <td>671.0</td>\n",
                            "      <td>239.0</td>\n",
                            "      <td>3.3438</td>\n",
                            "      <td>74000.0</td>\n",
                            "    </tr>\n",
                            "    <tr>\n",
                            "      <th>13</th>\n",
                            "      <td>-114.61</td>\n",
                            "      <td>34.83</td>\n",
                            "      <td>31.0</td>\n",
                            "      <td>2478.0</td>\n",
                            "      <td>464.0</td>\n",
                            "      <td>1346.0</td>\n",
                            "      <td>479.0</td>\n",
                            "      <td>3.2120</td>\n",
                            "      <td>70400.0</td>\n",
                            "    </tr>\n",
                            "    <tr>\n",
                            "      <th>23</th>\n",
                            "      <td>-114.98</td>\n",
                            "      <td>33.82</td>\n",
                            "      <td>15.0</td>\n",
                            "      <td>644.0</td>\n",
                            "      <td>129.0</td>\n",
                            "      <td>137.0</td>\n",
                            "      <td>52.0</td>\n",
                            "      <td>3.2097</td>\n",
                            "      <td>71300.0</td>\n",
                            "    </tr>\n",
                            "    <tr>\n",
                            "      <th>26</th>\n",
                            "      <td>-115.37</td>\n",
                            "      <td>32.82</td>\n",
                            "      <td>30.0</td>\n",
                            "      <td>1602.0</td>\n",
                            "      <td>322.0</td>\n",
                            "      <td>1130.0</td>\n",
                            "      <td>335.0</td>\n",
                            "      <td>3.5735</td>\n",
                            "      <td>71100.0</td>\n",
                            "    </tr>\n",
                            "  </tbody>\n",
                            "</table>\n",
                            "</div>"
                        ],
                        "text/plain": [
                            "    longitude  latitude  housing_median_age  total_rooms  total_bedrooms  \\\n",
                            "3     -114.57     33.64                14.0       1501.0           337.0   \n",
                            "5     -114.58     33.63                29.0       1387.0           236.0   \n",
                            "13    -114.61     34.83                31.0       2478.0           464.0   \n",
                            "23    -114.98     33.82                15.0        644.0           129.0   \n",
                            "26    -115.37     32.82                30.0       1602.0           322.0   \n",
                            "\n",
                            "    population  households  median_income  median_house_value  \n",
                            "3        515.0       226.0         3.1917             73400.0  \n",
                            "5        671.0       239.0         3.3438             74000.0  \n",
                            "13      1346.0       479.0         3.2120             70400.0  \n",
                            "23       137.0        52.0         3.2097             71300.0  \n",
                            "26      1130.0       335.0         3.5735             71100.0  "
                        ]
                    },
                    "execution_count": 41,
                    "metadata": {
                        "tags": []
                    },
                    "output_type": "execute_result"
                }
            ],
            "source": [
                "df[(df[col] > 70000) & (df[col] < 80000)].head()"
            ]
        },
        {
            "cell_type": "markdown",
            "metadata": {
                "colab_type": "text",
                "id": "yytjka0kAgEo"
            },
            "source": []
        },
        {
            "cell_type": "markdown",
            "metadata": {
                "colab_type": "text",
                "id": "vUdEP78l-JeI"
            },
            "source": [
                "## 条件を指定した置換\n",
                "\n",
                "抽出だけでなく、条件を指定した置換も行うことができます。\n",
                "例えば、`median_house_value` に対して、以下のような条件のときに数字を割り当てた `target` という列を `df` に追加したいとします。\n",
                "\n",
                "- 60000より小さい場合は 0\n",
                "- 60000以上70000未満は 1\n",
                "- 70000以上80000未満は 2\n",
                "- 80000以上は 3\n",
                "\n",
                "これは以下のようにして `df` に追加することができます。"
            ]
        },
        {
            "cell_type": "code",
            "execution_count": 42,
            "metadata": {
                "colab": {},
                "colab_type": "code",
                "id": "nHhpN6yT_-Ne"
            },
            "outputs": [],
            "source": [
                "# あらかじめ新しい列 target を None で初期化\n",
                "df['target'] = None"
            ]
        },
        {
            "cell_type": "code",
            "execution_count": 43,
            "metadata": {
                "colab": {
                    "base_uri": "https://localhost:8080/",
                    "height": 200
                },
                "colab_type": "code",
                "id": "3Y8yFklUABUt",
                "outputId": "45fabe88-06b6-4804-a459-fba4e8cea7d2"
            },
            "outputs": [
                {
                    "data": {
                        "text/html": [
                            "<div>\n",
                            "<style scoped>\n",
                            "    .dataframe tbody tr th:only-of-type {\n",
                            "        vertical-align: middle;\n",
                            "    }\n",
                            "\n",
                            "    .dataframe tbody tr th {\n",
                            "        vertical-align: top;\n",
                            "    }\n",
                            "\n",
                            "    .dataframe thead th {\n",
                            "        text-align: right;\n",
                            "    }\n",
                            "</style>\n",
                            "<table border=\"1\" class=\"dataframe\">\n",
                            "  <thead>\n",
                            "    <tr style=\"text-align: right;\">\n",
                            "      <th></th>\n",
                            "      <th>longitude</th>\n",
                            "      <th>latitude</th>\n",
                            "      <th>housing_median_age</th>\n",
                            "      <th>total_rooms</th>\n",
                            "      <th>total_bedrooms</th>\n",
                            "      <th>population</th>\n",
                            "      <th>households</th>\n",
                            "      <th>median_income</th>\n",
                            "      <th>median_house_value</th>\n",
                            "      <th>target</th>\n",
                            "    </tr>\n",
                            "  </thead>\n",
                            "  <tbody>\n",
                            "    <tr>\n",
                            "      <th>0</th>\n",
                            "      <td>-114.31</td>\n",
                            "      <td>34.19</td>\n",
                            "      <td>15.0</td>\n",
                            "      <td>5612.0</td>\n",
                            "      <td>1283.0</td>\n",
                            "      <td>1015.0</td>\n",
                            "      <td>472.0</td>\n",
                            "      <td>1.4936</td>\n",
                            "      <td>66900.0</td>\n",
                            "      <td>None</td>\n",
                            "    </tr>\n",
                            "    <tr>\n",
                            "      <th>1</th>\n",
                            "      <td>-114.47</td>\n",
                            "      <td>34.40</td>\n",
                            "      <td>19.0</td>\n",
                            "      <td>7650.0</td>\n",
                            "      <td>1901.0</td>\n",
                            "      <td>1129.0</td>\n",
                            "      <td>463.0</td>\n",
                            "      <td>1.8200</td>\n",
                            "      <td>80100.0</td>\n",
                            "      <td>None</td>\n",
                            "    </tr>\n",
                            "    <tr>\n",
                            "      <th>2</th>\n",
                            "      <td>-114.56</td>\n",
                            "      <td>33.69</td>\n",
                            "      <td>17.0</td>\n",
                            "      <td>720.0</td>\n",
                            "      <td>174.0</td>\n",
                            "      <td>333.0</td>\n",
                            "      <td>117.0</td>\n",
                            "      <td>1.6509</td>\n",
                            "      <td>85700.0</td>\n",
                            "      <td>None</td>\n",
                            "    </tr>\n",
                            "    <tr>\n",
                            "      <th>3</th>\n",
                            "      <td>-114.57</td>\n",
                            "      <td>33.64</td>\n",
                            "      <td>14.0</td>\n",
                            "      <td>1501.0</td>\n",
                            "      <td>337.0</td>\n",
                            "      <td>515.0</td>\n",
                            "      <td>226.0</td>\n",
                            "      <td>3.1917</td>\n",
                            "      <td>73400.0</td>\n",
                            "      <td>None</td>\n",
                            "    </tr>\n",
                            "    <tr>\n",
                            "      <th>4</th>\n",
                            "      <td>-114.57</td>\n",
                            "      <td>33.57</td>\n",
                            "      <td>20.0</td>\n",
                            "      <td>1454.0</td>\n",
                            "      <td>326.0</td>\n",
                            "      <td>624.0</td>\n",
                            "      <td>262.0</td>\n",
                            "      <td>1.9250</td>\n",
                            "      <td>65500.0</td>\n",
                            "      <td>None</td>\n",
                            "    </tr>\n",
                            "  </tbody>\n",
                            "</table>\n",
                            "</div>"
                        ],
                        "text/plain": [
                            "   longitude  latitude  housing_median_age  total_rooms  total_bedrooms  \\\n",
                            "0    -114.31     34.19                15.0       5612.0          1283.0   \n",
                            "1    -114.47     34.40                19.0       7650.0          1901.0   \n",
                            "2    -114.56     33.69                17.0        720.0           174.0   \n",
                            "3    -114.57     33.64                14.0       1501.0           337.0   \n",
                            "4    -114.57     33.57                20.0       1454.0           326.0   \n",
                            "\n",
                            "   population  households  median_income  median_house_value target  \n",
                            "0      1015.0       472.0         1.4936             66900.0   None  \n",
                            "1      1129.0       463.0         1.8200             80100.0   None  \n",
                            "2       333.0       117.0         1.6509             85700.0   None  \n",
                            "3       515.0       226.0         3.1917             73400.0   None  \n",
                            "4       624.0       262.0         1.9250             65500.0   None  "
                        ]
                    },
                    "execution_count": 43,
                    "metadata": {
                        "tags": []
                    },
                    "output_type": "execute_result"
                }
            ],
            "source": [
                "df.head()"
            ]
        },
        {
            "cell_type": "code",
            "execution_count": 44,
            "metadata": {
                "colab": {},
                "colab_type": "code",
                "id": "l3DK9ZtI6NsT"
            },
            "outputs": [],
            "source": [
                "index1 = df[col] < 60000\n",
                "index2 = (df[col] >= 60000) & (df[col] < 70000)\n",
                "index3 = (df[col] >= 70000) & (df[col] < 80000)\n",
                "index4 = df[col] >= 80000"
            ]
        },
        {
            "cell_type": "markdown",
            "metadata": {
                "colab_type": "text",
                "id": "wVdng5KDB5o1"
            },
            "source": [
                "行や列を数値で指定する場合は`iloc` を使用しましたが、列の名前を使用する場合には `loc` を用います。"
            ]
        },
        {
            "cell_type": "code",
            "execution_count": 45,
            "metadata": {
                "colab": {},
                "colab_type": "code",
                "id": "KK5Hw7fv6Nou"
            },
            "outputs": [],
            "source": [
                "df.loc[index1, 'target'] = 0\n",
                "df.loc[index2, 'target'] = 1\n",
                "df.loc[index3, 'target'] = 2\n",
                "df.loc[index4, 'target'] = 3"
            ]
        },
        {
            "cell_type": "code",
            "execution_count": 46,
            "metadata": {
                "colab": {
                    "base_uri": "https://localhost:8080/",
                    "height": 200
                },
                "colab_type": "code",
                "id": "0HKz4SB5_5u2",
                "outputId": "06ce6d99-0112-4243-b479-86f7b435d9da"
            },
            "outputs": [
                {
                    "data": {
                        "text/html": [
                            "<div>\n",
                            "<style scoped>\n",
                            "    .dataframe tbody tr th:only-of-type {\n",
                            "        vertical-align: middle;\n",
                            "    }\n",
                            "\n",
                            "    .dataframe tbody tr th {\n",
                            "        vertical-align: top;\n",
                            "    }\n",
                            "\n",
                            "    .dataframe thead th {\n",
                            "        text-align: right;\n",
                            "    }\n",
                            "</style>\n",
                            "<table border=\"1\" class=\"dataframe\">\n",
                            "  <thead>\n",
                            "    <tr style=\"text-align: right;\">\n",
                            "      <th></th>\n",
                            "      <th>longitude</th>\n",
                            "      <th>latitude</th>\n",
                            "      <th>housing_median_age</th>\n",
                            "      <th>total_rooms</th>\n",
                            "      <th>total_bedrooms</th>\n",
                            "      <th>population</th>\n",
                            "      <th>households</th>\n",
                            "      <th>median_income</th>\n",
                            "      <th>median_house_value</th>\n",
                            "      <th>target</th>\n",
                            "    </tr>\n",
                            "  </thead>\n",
                            "  <tbody>\n",
                            "    <tr>\n",
                            "      <th>0</th>\n",
                            "      <td>-114.31</td>\n",
                            "      <td>34.19</td>\n",
                            "      <td>15.0</td>\n",
                            "      <td>5612.0</td>\n",
                            "      <td>1283.0</td>\n",
                            "      <td>1015.0</td>\n",
                            "      <td>472.0</td>\n",
                            "      <td>1.4936</td>\n",
                            "      <td>66900.0</td>\n",
                            "      <td>1</td>\n",
                            "    </tr>\n",
                            "    <tr>\n",
                            "      <th>1</th>\n",
                            "      <td>-114.47</td>\n",
                            "      <td>34.40</td>\n",
                            "      <td>19.0</td>\n",
                            "      <td>7650.0</td>\n",
                            "      <td>1901.0</td>\n",
                            "      <td>1129.0</td>\n",
                            "      <td>463.0</td>\n",
                            "      <td>1.8200</td>\n",
                            "      <td>80100.0</td>\n",
                            "      <td>3</td>\n",
                            "    </tr>\n",
                            "    <tr>\n",
                            "      <th>2</th>\n",
                            "      <td>-114.56</td>\n",
                            "      <td>33.69</td>\n",
                            "      <td>17.0</td>\n",
                            "      <td>720.0</td>\n",
                            "      <td>174.0</td>\n",
                            "      <td>333.0</td>\n",
                            "      <td>117.0</td>\n",
                            "      <td>1.6509</td>\n",
                            "      <td>85700.0</td>\n",
                            "      <td>3</td>\n",
                            "    </tr>\n",
                            "    <tr>\n",
                            "      <th>3</th>\n",
                            "      <td>-114.57</td>\n",
                            "      <td>33.64</td>\n",
                            "      <td>14.0</td>\n",
                            "      <td>1501.0</td>\n",
                            "      <td>337.0</td>\n",
                            "      <td>515.0</td>\n",
                            "      <td>226.0</td>\n",
                            "      <td>3.1917</td>\n",
                            "      <td>73400.0</td>\n",
                            "      <td>2</td>\n",
                            "    </tr>\n",
                            "    <tr>\n",
                            "      <th>4</th>\n",
                            "      <td>-114.57</td>\n",
                            "      <td>33.57</td>\n",
                            "      <td>20.0</td>\n",
                            "      <td>1454.0</td>\n",
                            "      <td>326.0</td>\n",
                            "      <td>624.0</td>\n",
                            "      <td>262.0</td>\n",
                            "      <td>1.9250</td>\n",
                            "      <td>65500.0</td>\n",
                            "      <td>1</td>\n",
                            "    </tr>\n",
                            "  </tbody>\n",
                            "</table>\n",
                            "</div>"
                        ],
                        "text/plain": [
                            "   longitude  latitude  housing_median_age  total_rooms  total_bedrooms  \\\n",
                            "0    -114.31     34.19                15.0       5612.0          1283.0   \n",
                            "1    -114.47     34.40                19.0       7650.0          1901.0   \n",
                            "2    -114.56     33.69                17.0        720.0           174.0   \n",
                            "3    -114.57     33.64                14.0       1501.0           337.0   \n",
                            "4    -114.57     33.57                20.0       1454.0           326.0   \n",
                            "\n",
                            "   population  households  median_income  median_house_value  target  \n",
                            "0      1015.0       472.0         1.4936             66900.0       1  \n",
                            "1      1129.0       463.0         1.8200             80100.0       3  \n",
                            "2       333.0       117.0         1.6509             85700.0       3  \n",
                            "3       515.0       226.0         3.1917             73400.0       2  \n",
                            "4       624.0       262.0         1.9250             65500.0       1  "
                        ]
                    },
                    "execution_count": 46,
                    "metadata": {
                        "tags": []
                    },
                    "output_type": "execute_result"
                }
            ],
            "source": [
                "df.head()"
            ]
        },
        {
            "cell_type": "markdown",
            "metadata": {
                "colab_type": "text",
                "id": "cHzqyELkCNZC"
            },
            "source": [
                "この結果のように、条件の指定の置換を駆使することで、目的の列を追加できました。"
            ]
        },
        {
            "cell_type": "markdown",
            "metadata": {
                "colab_type": "text",
                "id": "vGjqaByGDShU"
            },
            "source": [
                "## 欠損値の除去 / 補間\n",
                "\n",
                "実データでは値が入っていない欠損値を含んでいることがしばしばあります。\n",
                "この欠損値への対策としては、欠損値を含む行、または列を除去するか、欠損値を特定の値で補間することが考えられます。\n",
                "\n",
                "サンプルサイズが多く、欠損値が多くない場合には、訓練やテストに用いるサンプルサイズへの影響も少ないため、除去してしまうことが一番簡単な対策です。\n",
                "それに対し、サンプルサイズが少なかったり、欠損値が多い場合には、訓練やテストに用いるサンプルサイズへの影響を考慮し、補間することが一般的です。"
            ]
        },
        {
            "cell_type": "code",
            "execution_count": 47,
            "metadata": {
                "colab": {},
                "colab_type": "code",
                "id": "aoE0QNhuDRyQ"
            },
            "outputs": [],
            "source": [
                "# 欠損値を人為的に作成\n",
                "df.iloc[0, 0] = None"
            ]
        },
        {
            "cell_type": "code",
            "execution_count": 48,
            "metadata": {
                "colab": {
                    "base_uri": "https://localhost:8080/",
                    "height": 200
                },
                "colab_type": "code",
                "id": "qZgx5pchDRua",
                "outputId": "24908301-5d06-4d7c-ad9b-0367afb0c25d"
            },
            "outputs": [
                {
                    "data": {
                        "text/html": [
                            "<div>\n",
                            "<style scoped>\n",
                            "    .dataframe tbody tr th:only-of-type {\n",
                            "        vertical-align: middle;\n",
                            "    }\n",
                            "\n",
                            "    .dataframe tbody tr th {\n",
                            "        vertical-align: top;\n",
                            "    }\n",
                            "\n",
                            "    .dataframe thead th {\n",
                            "        text-align: right;\n",
                            "    }\n",
                            "</style>\n",
                            "<table border=\"1\" class=\"dataframe\">\n",
                            "  <thead>\n",
                            "    <tr style=\"text-align: right;\">\n",
                            "      <th></th>\n",
                            "      <th>longitude</th>\n",
                            "      <th>latitude</th>\n",
                            "      <th>housing_median_age</th>\n",
                            "      <th>total_rooms</th>\n",
                            "      <th>total_bedrooms</th>\n",
                            "      <th>population</th>\n",
                            "      <th>households</th>\n",
                            "      <th>median_income</th>\n",
                            "      <th>median_house_value</th>\n",
                            "      <th>target</th>\n",
                            "    </tr>\n",
                            "  </thead>\n",
                            "  <tbody>\n",
                            "    <tr>\n",
                            "      <th>0</th>\n",
                            "      <td>NaN</td>\n",
                            "      <td>34.19</td>\n",
                            "      <td>15.0</td>\n",
                            "      <td>5612.0</td>\n",
                            "      <td>1283.0</td>\n",
                            "      <td>1015.0</td>\n",
                            "      <td>472.0</td>\n",
                            "      <td>1.4936</td>\n",
                            "      <td>66900.0</td>\n",
                            "      <td>1</td>\n",
                            "    </tr>\n",
                            "    <tr>\n",
                            "      <th>1</th>\n",
                            "      <td>-114.47</td>\n",
                            "      <td>34.40</td>\n",
                            "      <td>19.0</td>\n",
                            "      <td>7650.0</td>\n",
                            "      <td>1901.0</td>\n",
                            "      <td>1129.0</td>\n",
                            "      <td>463.0</td>\n",
                            "      <td>1.8200</td>\n",
                            "      <td>80100.0</td>\n",
                            "      <td>3</td>\n",
                            "    </tr>\n",
                            "    <tr>\n",
                            "      <th>2</th>\n",
                            "      <td>-114.56</td>\n",
                            "      <td>33.69</td>\n",
                            "      <td>17.0</td>\n",
                            "      <td>720.0</td>\n",
                            "      <td>174.0</td>\n",
                            "      <td>333.0</td>\n",
                            "      <td>117.0</td>\n",
                            "      <td>1.6509</td>\n",
                            "      <td>85700.0</td>\n",
                            "      <td>3</td>\n",
                            "    </tr>\n",
                            "    <tr>\n",
                            "      <th>3</th>\n",
                            "      <td>-114.57</td>\n",
                            "      <td>33.64</td>\n",
                            "      <td>14.0</td>\n",
                            "      <td>1501.0</td>\n",
                            "      <td>337.0</td>\n",
                            "      <td>515.0</td>\n",
                            "      <td>226.0</td>\n",
                            "      <td>3.1917</td>\n",
                            "      <td>73400.0</td>\n",
                            "      <td>2</td>\n",
                            "    </tr>\n",
                            "    <tr>\n",
                            "      <th>4</th>\n",
                            "      <td>-114.57</td>\n",
                            "      <td>33.57</td>\n",
                            "      <td>20.0</td>\n",
                            "      <td>1454.0</td>\n",
                            "      <td>326.0</td>\n",
                            "      <td>624.0</td>\n",
                            "      <td>262.0</td>\n",
                            "      <td>1.9250</td>\n",
                            "      <td>65500.0</td>\n",
                            "      <td>1</td>\n",
                            "    </tr>\n",
                            "  </tbody>\n",
                            "</table>\n",
                            "</div>"
                        ],
                        "text/plain": [
                            "   longitude  latitude  housing_median_age  total_rooms  total_bedrooms  \\\n",
                            "0        NaN     34.19                15.0       5612.0          1283.0   \n",
                            "1    -114.47     34.40                19.0       7650.0          1901.0   \n",
                            "2    -114.56     33.69                17.0        720.0           174.0   \n",
                            "3    -114.57     33.64                14.0       1501.0           337.0   \n",
                            "4    -114.57     33.57                20.0       1454.0           326.0   \n",
                            "\n",
                            "   population  households  median_income  median_house_value  target  \n",
                            "0      1015.0       472.0         1.4936             66900.0       1  \n",
                            "1      1129.0       463.0         1.8200             80100.0       3  \n",
                            "2       333.0       117.0         1.6509             85700.0       3  \n",
                            "3       515.0       226.0         3.1917             73400.0       2  \n",
                            "4       624.0       262.0         1.9250             65500.0       1  "
                        ]
                    },
                    "execution_count": 48,
                    "metadata": {
                        "tags": []
                    },
                    "output_type": "execute_result"
                }
            ],
            "source": [
                "df.head()"
            ]
        },
        {
            "cell_type": "code",
            "execution_count": 49,
            "metadata": {
                "colab": {
                    "base_uri": "https://localhost:8080/",
                    "height": 139
                },
                "colab_type": "code",
                "id": "_G5T0rQ2DRq2",
                "outputId": "8d781fab-bc5b-4cd3-b0a3-782eab114082"
            },
            "outputs": [
                {
                    "data": {
                        "text/html": [
                            "<div>\n",
                            "<style scoped>\n",
                            "    .dataframe tbody tr th:only-of-type {\n",
                            "        vertical-align: middle;\n",
                            "    }\n",
                            "\n",
                            "    .dataframe tbody tr th {\n",
                            "        vertical-align: top;\n",
                            "    }\n",
                            "\n",
                            "    .dataframe thead th {\n",
                            "        text-align: right;\n",
                            "    }\n",
                            "</style>\n",
                            "<table border=\"1\" class=\"dataframe\">\n",
                            "  <thead>\n",
                            "    <tr style=\"text-align: right;\">\n",
                            "      <th></th>\n",
                            "      <th>longitude</th>\n",
                            "      <th>latitude</th>\n",
                            "      <th>housing_median_age</th>\n",
                            "      <th>total_rooms</th>\n",
                            "      <th>total_bedrooms</th>\n",
                            "      <th>population</th>\n",
                            "      <th>households</th>\n",
                            "      <th>median_income</th>\n",
                            "      <th>median_house_value</th>\n",
                            "      <th>target</th>\n",
                            "    </tr>\n",
                            "  </thead>\n",
                            "  <tbody>\n",
                            "    <tr>\n",
                            "      <th>1</th>\n",
                            "      <td>-114.47</td>\n",
                            "      <td>34.40</td>\n",
                            "      <td>19.0</td>\n",
                            "      <td>7650.0</td>\n",
                            "      <td>1901.0</td>\n",
                            "      <td>1129.0</td>\n",
                            "      <td>463.0</td>\n",
                            "      <td>1.8200</td>\n",
                            "      <td>80100.0</td>\n",
                            "      <td>3</td>\n",
                            "    </tr>\n",
                            "    <tr>\n",
                            "      <th>2</th>\n",
                            "      <td>-114.56</td>\n",
                            "      <td>33.69</td>\n",
                            "      <td>17.0</td>\n",
                            "      <td>720.0</td>\n",
                            "      <td>174.0</td>\n",
                            "      <td>333.0</td>\n",
                            "      <td>117.0</td>\n",
                            "      <td>1.6509</td>\n",
                            "      <td>85700.0</td>\n",
                            "      <td>3</td>\n",
                            "    </tr>\n",
                            "    <tr>\n",
                            "      <th>3</th>\n",
                            "      <td>-114.57</td>\n",
                            "      <td>33.64</td>\n",
                            "      <td>14.0</td>\n",
                            "      <td>1501.0</td>\n",
                            "      <td>337.0</td>\n",
                            "      <td>515.0</td>\n",
                            "      <td>226.0</td>\n",
                            "      <td>3.1917</td>\n",
                            "      <td>73400.0</td>\n",
                            "      <td>2</td>\n",
                            "    </tr>\n",
                            "  </tbody>\n",
                            "</table>\n",
                            "</div>"
                        ],
                        "text/plain": [
                            "   longitude  latitude  housing_median_age  total_rooms  total_bedrooms  \\\n",
                            "1    -114.47     34.40                19.0       7650.0          1901.0   \n",
                            "2    -114.56     33.69                17.0        720.0           174.0   \n",
                            "3    -114.57     33.64                14.0       1501.0           337.0   \n",
                            "\n",
                            "   population  households  median_income  median_house_value  target  \n",
                            "1      1129.0       463.0         1.8200             80100.0       3  \n",
                            "2       333.0       117.0         1.6509             85700.0       3  \n",
                            "3       515.0       226.0         3.1917             73400.0       2  "
                        ]
                    },
                    "execution_count": 49,
                    "metadata": {
                        "tags": []
                    },
                    "output_type": "execute_result"
                }
            ],
            "source": [
                "# 欠損値のあるレコードを削除\n",
                "# df.dropna()\n",
                "df.dropna().head(3)"
            ]
        },
        {
            "cell_type": "markdown",
            "metadata": {
                "colab_type": "text",
                "id": "gWpfdlT3E2UE"
            },
            "source": [
                "この結果より、0 番目の行が除去されていることがわかります。\n",
                "\n",
                "次に、平均を使って補間を行っていきます。"
            ]
        },
        {
            "cell_type": "code",
            "execution_count": 50,
            "metadata": {
                "colab": {
                    "base_uri": "https://localhost:8080/",
                    "height": 212
                },
                "colab_type": "code",
                "id": "Yv9ICb3wDRm4",
                "outputId": "544bdf10-2590-4389-cff4-80a3eab92afe"
            },
            "outputs": [
                {
                    "data": {
                        "text/plain": [
                            "longitude               -119.562417\n",
                            "latitude                  35.625225\n",
                            "housing_median_age        28.589353\n",
                            "total_rooms             2643.664412\n",
                            "total_bedrooms           539.410824\n",
                            "population              1429.573941\n",
                            "households               501.221941\n",
                            "median_income              3.883578\n",
                            "median_house_value    207300.912353\n",
                            "target                     2.808412\n",
                            "dtype: float64"
                        ]
                    },
                    "execution_count": 50,
                    "metadata": {
                        "tags": []
                    },
                    "output_type": "execute_result"
                }
            ],
            "source": [
                "mean = df.mean()\n",
                "mean"
            ]
        },
        {
            "cell_type": "code",
            "execution_count": 51,
            "metadata": {
                "colab": {
                    "base_uri": "https://localhost:8080/",
                    "height": 139
                },
                "colab_type": "code",
                "id": "ucbggS34FCGu",
                "outputId": "69e897fb-6a59-4f9a-b549-acb7760d5071"
            },
            "outputs": [
                {
                    "data": {
                        "text/html": [
                            "<div>\n",
                            "<style scoped>\n",
                            "    .dataframe tbody tr th:only-of-type {\n",
                            "        vertical-align: middle;\n",
                            "    }\n",
                            "\n",
                            "    .dataframe tbody tr th {\n",
                            "        vertical-align: top;\n",
                            "    }\n",
                            "\n",
                            "    .dataframe thead th {\n",
                            "        text-align: right;\n",
                            "    }\n",
                            "</style>\n",
                            "<table border=\"1\" class=\"dataframe\">\n",
                            "  <thead>\n",
                            "    <tr style=\"text-align: right;\">\n",
                            "      <th></th>\n",
                            "      <th>longitude</th>\n",
                            "      <th>latitude</th>\n",
                            "      <th>housing_median_age</th>\n",
                            "      <th>total_rooms</th>\n",
                            "      <th>total_bedrooms</th>\n",
                            "      <th>population</th>\n",
                            "      <th>households</th>\n",
                            "      <th>median_income</th>\n",
                            "      <th>median_house_value</th>\n",
                            "      <th>target</th>\n",
                            "    </tr>\n",
                            "  </thead>\n",
                            "  <tbody>\n",
                            "    <tr>\n",
                            "      <th>0</th>\n",
                            "      <td>-119.562417</td>\n",
                            "      <td>34.19</td>\n",
                            "      <td>15.0</td>\n",
                            "      <td>5612.0</td>\n",
                            "      <td>1283.0</td>\n",
                            "      <td>1015.0</td>\n",
                            "      <td>472.0</td>\n",
                            "      <td>1.4936</td>\n",
                            "      <td>66900.0</td>\n",
                            "      <td>1</td>\n",
                            "    </tr>\n",
                            "    <tr>\n",
                            "      <th>1</th>\n",
                            "      <td>-114.470000</td>\n",
                            "      <td>34.40</td>\n",
                            "      <td>19.0</td>\n",
                            "      <td>7650.0</td>\n",
                            "      <td>1901.0</td>\n",
                            "      <td>1129.0</td>\n",
                            "      <td>463.0</td>\n",
                            "      <td>1.8200</td>\n",
                            "      <td>80100.0</td>\n",
                            "      <td>3</td>\n",
                            "    </tr>\n",
                            "    <tr>\n",
                            "      <th>2</th>\n",
                            "      <td>-114.560000</td>\n",
                            "      <td>33.69</td>\n",
                            "      <td>17.0</td>\n",
                            "      <td>720.0</td>\n",
                            "      <td>174.0</td>\n",
                            "      <td>333.0</td>\n",
                            "      <td>117.0</td>\n",
                            "      <td>1.6509</td>\n",
                            "      <td>85700.0</td>\n",
                            "      <td>3</td>\n",
                            "    </tr>\n",
                            "  </tbody>\n",
                            "</table>\n",
                            "</div>"
                        ],
                        "text/plain": [
                            "    longitude  latitude  housing_median_age  total_rooms  total_bedrooms  \\\n",
                            "0 -119.562417     34.19                15.0       5612.0          1283.0   \n",
                            "1 -114.470000     34.40                19.0       7650.0          1901.0   \n",
                            "2 -114.560000     33.69                17.0        720.0           174.0   \n",
                            "\n",
                            "   population  households  median_income  median_house_value  target  \n",
                            "0      1015.0       472.0         1.4936             66900.0       1  \n",
                            "1      1129.0       463.0         1.8200             80100.0       3  \n",
                            "2       333.0       117.0         1.6509             85700.0       3  "
                        ]
                    },
                    "execution_count": 51,
                    "metadata": {
                        "tags": []
                    },
                    "output_type": "execute_result"
                }
            ],
            "source": [
                "# df.fillna(mean)\n",
                "df.fillna(mean).head(3)"
            ]
        },
        {
            "cell_type": "markdown",
            "metadata": {
                "colab_type": "text",
                "id": "e0QntVBrFN2o"
            },
            "source": [
                "0 番目の `latitude` に平均として算出されていた `-119.562417` が補間されていることがわかります。\n",
                "今回は 1 箇所だけが対象でしたが、`dropna` や `fillna` を使用することで、対象の箇所に対してすべて適用することができます。"
            ]
        },
        {
            "cell_type": "markdown",
            "metadata": {
                "colab_type": "text",
                "id": "pUfQuJt6F8IW"
            },
            "source": [
                "## NumPy と Pandas を相互に変換\n",
                "\n",
                "scikit-learn では `pandas.Series` や `pandas.DataFrame` を扱うことができます。\n",
                "しかし、Chainer を含めた他のライブラリやフレームワークでは `numpy.ndarray` のみへの対応となっていることがしばしばあります。\n",
                "`numpy.ndarray` への変換は `values` を使います。"
            ]
        },
        {
            "cell_type": "code",
            "execution_count": 52,
            "metadata": {
                "colab": {
                    "base_uri": "https://localhost:8080/",
                    "height": 35
                },
                "colab_type": "code",
                "id": "CIUFwSp8Gz-O",
                "outputId": "c5400086-8709-4e46-903b-27243e875d29"
            },
            "outputs": [
                {
                    "data": {
                        "text/plain": [
                            "pandas.core.frame.DataFrame"
                        ]
                    },
                    "execution_count": 52,
                    "metadata": {
                        "tags": []
                    },
                    "output_type": "execute_result"
                }
            ],
            "source": [
                "type(df)"
            ]
        },
        {
            "cell_type": "code",
            "execution_count": 53,
            "metadata": {
                "colab": {
                    "base_uri": "https://localhost:8080/",
                    "height": 35
                },
                "colab_type": "code",
                "id": "I0HH67MUFCCj",
                "outputId": "73815cac-8a4a-414e-dcc1-3a10213e0c7b"
            },
            "outputs": [
                {
                    "data": {
                        "text/plain": [
                            "numpy.ndarray"
                        ]
                    },
                    "execution_count": 53,
                    "metadata": {
                        "tags": []
                    },
                    "output_type": "execute_result"
                }
            ],
            "source": [
                "type(df.values)"
            ]
        },
        {
            "cell_type": "code",
            "execution_count": 54,
            "metadata": {
                "colab": {
                    "base_uri": "https://localhost:8080/",
                    "height": 248
                },
                "colab_type": "code",
                "id": "gVhfmvSaFB_Q",
                "outputId": "737bcb04-0041-4982-ccb4-f2bd36ca8cfa"
            },
            "outputs": [
                {
                    "data": {
                        "text/plain": [
                            "array([[        nan,  3.4190e+01,  1.5000e+01, ...,  1.4936e+00,\n",
                            "         6.6900e+04,  1.0000e+00],\n",
                            "       [-1.1447e+02,  3.4400e+01,  1.9000e+01, ...,  1.8200e+00,\n",
                            "         8.0100e+04,  3.0000e+00],\n",
                            "       [-1.1456e+02,  3.3690e+01,  1.7000e+01, ...,  1.6509e+00,\n",
                            "         8.5700e+04,  3.0000e+00],\n",
                            "       ...,\n",
                            "       [-1.2430e+02,  4.1840e+01,  1.7000e+01, ...,  3.0313e+00,\n",
                            "         1.0360e+05,  3.0000e+00],\n",
                            "       [-1.2430e+02,  4.1800e+01,  1.9000e+01, ...,  1.9797e+00,\n",
                            "         8.5800e+04,  3.0000e+00],\n",
                            "       [-1.2435e+02,  4.0540e+01,  5.2000e+01, ...,  3.0147e+00,\n",
                            "         9.4600e+04,  3.0000e+00]])"
                        ]
                    },
                    "execution_count": 54,
                    "metadata": {
                        "tags": []
                    },
                    "output_type": "execute_result"
                }
            ],
            "source": [
                "# pandas.DataFrame のように表が綺麗に表示されることはない\n",
                "df.values"
            ]
        },
        {
            "cell_type": "code",
            "execution_count": 55,
            "metadata": {
                "colab": {
                    "base_uri": "https://localhost:8080/",
                    "height": 35
                },
                "colab_type": "code",
                "id": "PmFD0jJ1FB7_",
                "outputId": "8cf129cf-ecb6-4e74-8f4b-67e844b3f720"
            },
            "outputs": [
                {
                    "data": {
                        "text/plain": [
                            "pandas.core.series.Series"
                        ]
                    },
                    "execution_count": 55,
                    "metadata": {
                        "tags": []
                    },
                    "output_type": "execute_result"
                }
            ],
            "source": [
                "type(df['longitude'])"
            ]
        },
        {
            "cell_type": "code",
            "execution_count": 56,
            "metadata": {
                "colab": {
                    "base_uri": "https://localhost:8080/",
                    "height": 35
                },
                "colab_type": "code",
                "id": "Wer8w0REFB3k",
                "outputId": "cae2a740-30f3-45af-843b-096d77502efb"
            },
            "outputs": [
                {
                    "data": {
                        "text/plain": [
                            "numpy.ndarray"
                        ]
                    },
                    "execution_count": 56,
                    "metadata": {
                        "tags": []
                    },
                    "output_type": "execute_result"
                }
            ],
            "source": [
                "type(df['longitude'].values)"
            ]
        },
        {
            "cell_type": "markdown",
            "metadata": {
                "colab_type": "text",
                "id": "ak1--qmKIM-p"
            },
            "source": [
                "逆に、リストや `numpy.ndarray` から `pandas.Series` や `pandas.DataFrame` への変換を行うこともできます。\n",
                "NumPy で乱数を生成し、それを使って `pandas.DataFrame` に変換してみます。"
            ]
        },
        {
            "cell_type": "code",
            "execution_count": 57,
            "metadata": {
                "colab": {},
                "colab_type": "code",
                "id": "LMuhjg96l1w4"
            },
            "outputs": [],
            "source": [
                "import numpy as np"
            ]
        },
        {
            "cell_type": "code",
            "execution_count": 58,
            "metadata": {
                "colab": {},
                "colab_type": "code",
                "id": "j5XleGVDIyKH"
            },
            "outputs": [],
            "source": [
                "# リスト -> pandas.DataFrame\n",
                "df = pd.DataFrame({\n",
                "    'x': np.random.randn(10),\n",
                "})"
            ]
        },
        {
            "cell_type": "code",
            "execution_count": 59,
            "metadata": {
                "colab": {
                    "base_uri": "https://localhost:8080/",
                    "height": 352
                },
                "colab_type": "code",
                "id": "j41CqK_iIyGl",
                "outputId": "00a2d212-06d5-48b8-c040-eb0ae97c2009"
            },
            "outputs": [
                {
                    "data": {
                        "text/html": [
                            "<div>\n",
                            "<style scoped>\n",
                            "    .dataframe tbody tr th:only-of-type {\n",
                            "        vertical-align: middle;\n",
                            "    }\n",
                            "\n",
                            "    .dataframe tbody tr th {\n",
                            "        vertical-align: top;\n",
                            "    }\n",
                            "\n",
                            "    .dataframe thead th {\n",
                            "        text-align: right;\n",
                            "    }\n",
                            "</style>\n",
                            "<table border=\"1\" class=\"dataframe\">\n",
                            "  <thead>\n",
                            "    <tr style=\"text-align: right;\">\n",
                            "      <th></th>\n",
                            "      <th>x</th>\n",
                            "    </tr>\n",
                            "  </thead>\n",
                            "  <tbody>\n",
                            "    <tr>\n",
                            "      <th>0</th>\n",
                            "      <td>-0.713776</td>\n",
                            "    </tr>\n",
                            "    <tr>\n",
                            "      <th>1</th>\n",
                            "      <td>0.376086</td>\n",
                            "    </tr>\n",
                            "    <tr>\n",
                            "      <th>2</th>\n",
                            "      <td>-1.738528</td>\n",
                            "    </tr>\n",
                            "    <tr>\n",
                            "      <th>3</th>\n",
                            "      <td>-0.017086</td>\n",
                            "    </tr>\n",
                            "    <tr>\n",
                            "      <th>4</th>\n",
                            "      <td>1.092249</td>\n",
                            "    </tr>\n",
                            "    <tr>\n",
                            "      <th>5</th>\n",
                            "      <td>0.337441</td>\n",
                            "    </tr>\n",
                            "    <tr>\n",
                            "      <th>6</th>\n",
                            "      <td>0.481429</td>\n",
                            "    </tr>\n",
                            "    <tr>\n",
                            "      <th>7</th>\n",
                            "      <td>-0.660496</td>\n",
                            "    </tr>\n",
                            "    <tr>\n",
                            "      <th>8</th>\n",
                            "      <td>-0.153782</td>\n",
                            "    </tr>\n",
                            "    <tr>\n",
                            "      <th>9</th>\n",
                            "      <td>0.472584</td>\n",
                            "    </tr>\n",
                            "  </tbody>\n",
                            "</table>\n",
                            "</div>"
                        ],
                        "text/plain": [
                            "          x\n",
                            "0 -0.713776\n",
                            "1  0.376086\n",
                            "2 -1.738528\n",
                            "3 -0.017086\n",
                            "4  1.092249\n",
                            "5  0.337441\n",
                            "6  0.481429\n",
                            "7 -0.660496\n",
                            "8 -0.153782\n",
                            "9  0.472584"
                        ]
                    },
                    "execution_count": 59,
                    "metadata": {
                        "tags": []
                    },
                    "output_type": "execute_result"
                }
            ],
            "source": [
                "df"
            ]
        },
        {
            "cell_type": "markdown",
            "metadata": {
                "colab_type": "text",
                "id": "XV5KiT0yKblX"
            },
            "source": [
                "## グラフの描画\n",
                "\n",
                "Pandas の `DataFrame` では、[次の章](https://tutorials.chainer.org/ja/src/12_Introduction_to_Matplotlib_ja.html)で紹介する Matplotlib をバックエンドで利用して、簡単な描画を行うことができます。\n"
            ]
        },
        {
            "cell_type": "code",
            "execution_count": 60,
            "metadata": {
                "colab": {
                    "base_uri": "https://localhost:8080/",
                    "height": 364
                },
                "colab_type": "code",
                "id": "G23DsfMIIx7Z",
                "outputId": "f36a0f94-68b5-494c-f58a-b95263dbc365"
            },
            "outputs": [
                {
                    "data": {
                        "text/plain": [
                            "<matplotlib.axes._subplots.AxesSubplot at 0x7fb4e0a03550>"
                        ]
                    },
                    "execution_count": 60,
                    "metadata": {
                        "tags": []
                    },
                    "output_type": "execute_result"
                },
                {
                    "data": {
                        "image/png": "[encoded data removed]",
                        "text/plain": [
                            "<Figure size 576x396 with 1 Axes>"
                        ]
                    },
                    "metadata": {
                        "tags": []
                    },
                    "output_type": "display_data"
                }
            ],
            "source": [
                "# グラフの描画\n",
                "df.plot()"
            ]
        },
        {
            "cell_type": "markdown",
            "metadata": {
                "colab_type": "text",
                "id": "QYkTAx4IHeFA"
            },
            "source": [
                "詳細なグラフの設定が必要な場合は、Matplotlib の利用をお勧めします。"
            ]
        }
    ],
    "metadata": {
        "colab": {
            "name": "Chainer Tutorials : 11_Introduction_to_Pandas_ja.ipynb",
            "version": "0.3.2",
            "provenance": [],
            "collapsed_sections": []
        },
        "kernelspec": {
            "display_name": "Python 3",
            "language": "python",
            "name": "python3"
        },
        "language_info": {
            "codemirror_mode": {
                "name": "ipython",
                "version": 3
            },
            "file_extension": ".py",
            "mimetype": "text/x-python",
            "name": "python",
            "nbconvert_exporter": "python",
            "pygments_lexer": "ipython3",
            "version": "3.7.2"
        }
    },
    "nbformat": 4,
    "nbformat_minor": 1
}